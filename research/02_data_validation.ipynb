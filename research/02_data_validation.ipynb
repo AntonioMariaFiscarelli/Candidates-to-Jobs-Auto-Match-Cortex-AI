{
 "cells": [
  {
   "cell_type": "code",
   "execution_count": 1,
   "id": "c88af9a9",
   "metadata": {},
   "outputs": [
    {
     "data": {
      "text/plain": [
       "'c:\\\\Users\\\\fiscarelli\\\\Desktop\\\\Progetti\\\\Manpower IT\\\\Auto-Match\\\\Candidates-to-Jobs-Auto-Match-Cortex-AI'"
      ]
     },
     "execution_count": 1,
     "metadata": {},
     "output_type": "execute_result"
    }
   ],
   "source": [
    "import os\n",
    "import sys\n",
    "import pandas as pd\n",
    "\n",
    "import logging \n",
    "\n",
    "logging.getLogger(\"snowflake\").setLevel(logging.WARNING)\n",
    "logging.getLogger(\"snowflake.connector\").setLevel(logging.WARNING)\n",
    "logging.getLogger(\"snowflake.snowpark\").setLevel(logging.WARNING)\n",
    "\n",
    "\n",
    "%pwd\n",
    "os.chdir(\"../\")\n",
    "\n",
    "# Add the absolute path to src/ so Python can find automatch\n",
    "src_path = os.path.abspath(\"src\")\n",
    "if src_path not in sys.path:\n",
    "    sys.path.append(src_path)\n",
    "    \n",
    "%pwd\n"
   ]
  },
  {
   "cell_type": "code",
   "execution_count": 2,
   "id": "88f66edf",
   "metadata": {},
   "outputs": [
    {
     "data": {
      "text/plain": [
       "'c:\\\\Users\\\\fiscarelli\\\\Desktop\\\\Progetti\\\\Manpower IT\\\\Auto-Match\\\\Candidates-to-Jobs-Auto-Match-Cortex-AI'"
      ]
     },
     "execution_count": 2,
     "metadata": {},
     "output_type": "execute_result"
    }
   ],
   "source": [
    "%pwd"
   ]
  },
  {
   "cell_type": "code",
   "execution_count": 3,
   "id": "498caf83",
   "metadata": {},
   "outputs": [
    {
     "name": "stdout",
     "output_type": "stream",
     "text": [
      "Initiating login request with your identity provider. A browser window should have opened for you to complete the login. If you can't see it, check existing browser windows, or your OS settings. Press CTRL+C to abort and try again...\n",
      "Going to open: https://login.microsoftonline.com/e2ba81b8-03fe-407c-96a1-f4bc0f512e7d/saml2?SAMLRequest=nZJNc5swEIb%2FCqOeAUHwBxrbGcduxu64KbVx%2BnETsDhqQKJaEZz%2B%2Bso4nkkPyaE3Rjy7erTvTq6PdeU8gUah5JQEHiUOyFwVQh6mZJ%2FeumPioOGy4JWSMCXPgOR6NkFeVw2bt%2BZBbuF3C2gc20gi639MSaslUxwFMslrQGZytpt%2F3rDQo6zRyqhcVeRVyfsVHBG0sYaXkgKF1XswpmG%2B33Wd1115Sh%2F8kFLq09i31An5cOGP9k1v8IFPoxNvCYsnL243Qp5H8J5WdoaQrdI0cZMvu5Q484vqQklsa9A70E8ih%2F12cxZAa3CziyMajr3Ozs2FVqsGPP6n1eChVF1Z8UfIVd20xnb37JdfQuFX6iDsANbLKWkeRaHNt032KeOr77Aa7WuM7trjV9x85NtwEWdLnhz2afqr2OT3P3Li3F8SDk8JrxFbWMtTrsYe0XDgBtSlcRpELBiyaOjF0eAncZbWT0hu%2BsqLfO%2Fh1SLXClVplKyEhN4SwoyPg2zs0qsS3IiOcjce8sAtoyyn5SAIYVT4p7RDct4g1ovo2f%2FOZeK%2F7vKylHc2p%2FUyUZXIn51bpWtu3o4x8IL%2BRBRu2aMMai6qeVFoQLRxVpXqFhq4sbtvdAvEn51v%2FXf7Z38B&RelayState=ver%3A1-hint%3A126482533224670-ETMsDgAAAZnJVOBhABRBRVMvQ0JDL1BLQ1M1UGFkZGluZwEAABAAEHlKI9a%2BE0EpYDotGtlQm4AAAACgAJYHK2g%2B8o4d%2BhHUqDFfOqiz%2Fe06Nw%2BPj1eWxwWZAZE0EPDMO40tYwLCBGqTsFsFVaDxC9noZLnvKosxqzv%2BcqwhWtC2S%2B9l%2BdMe9VZRmHYd4N0n46lwNn1DhEaHdBJCG1fZf3FbG5DsrzLeGMLKXky0hXLNkBOWFJXXKSPJMeI92Gjl7rhsCIcwy2mAk9%2FTixT%2B6hrJrTWxn9F7vkFeyQAUUlyB%2Fzggizmx8Lty6Lon4NpIyfA%3D to authenticate...\n"
     ]
    }
   ],
   "source": [
    "from autoMatch.utils.snowflake_utils import get_snowpark_session\n",
    "session = get_snowpark_session()"
   ]
  },
  {
   "cell_type": "code",
   "execution_count": null,
   "id": "4480b859",
   "metadata": {},
   "outputs": [],
   "source": [
    "from dataclasses import dataclass\n",
    "from pathlib import Path\n",
    "\n",
    "@dataclass(frozen=True)\n",
    "class DataValidationConfig:\n",
    "    root_dir: str\n",
    "    database: str\n",
    "    schema: str\n",
    "    input_table: dict\n",
    "    table_schema: dict\n",
    "    status_file: str\n"
   ]
  },
  {
   "cell_type": "code",
   "execution_count": null,
   "id": "8f8ebff8",
   "metadata": {},
   "outputs": [],
   "source": [
    "from autoMatch.constants import *\n",
    "from autoMatch.utils.common import read_yaml, create_directories\n",
    "from autoMatch import logger\n",
    "\n",
    "class ConfigurationManager:\n",
    "    def __init__(\n",
    "        self,\n",
    "        config_filepath = CONFIG_FILE_PATH,\n",
    "        params_filepath = PARAMS_FILE_PATH,\n",
    "        schema_filepath = SCHEMA_FILE_PATH):\n",
    "\n",
    "        self.config = read_yaml(config_filepath)\n",
    "        self.params = read_yaml(params_filepath)\n",
    "        self.schema = read_yaml(schema_filepath)\n",
    "\n",
    "        create_directories([self.config.artifacts_root])\n",
    "\n",
    "\n",
    "    \n",
    "    def get_data_validation_config(self) -> DataValidationConfig:\n",
    "        config = self.config.data_validation\n",
    "        schema = self.schema.data_validation\n",
    "\n",
    "        create_directories([config.root_dir])\n",
    "\n",
    "        data_validation_config = DataValidationConfig(\n",
    "            root_dir=config.root_dir,\n",
    "            database=config.database,\n",
    "            schema=config.schema,\n",
    "            input_table=config.input_table,\n",
    "            table_schema=schema.table_schema,\n",
    "            status_file = config.STATUS_FILE\n",
    "        )\n",
    "\n",
    "        return data_validation_config"
   ]
  },
  {
   "cell_type": "code",
   "execution_count": null,
   "id": "c4fbb608",
   "metadata": {},
   "outputs": [],
   "source": [
    "class DataValidation:\n",
    "    def __init__(self, config: DataValidationConfig):\n",
    "        self.config = config\n",
    "\n",
    "\n",
    "    def validate_all_columns(self, session)-> bool:\n",
    "        try:\n",
    "            validation_status = True\n",
    "\n",
    "            database = self.config.database\n",
    "            schema = self.config.schema\n",
    "            input_table = self.config.input_table\n",
    "            table_schema = self.config.table_schema\n",
    "            status_file = self.config.status_file\n",
    "\n",
    "            for input_table, intput_table_snowflake in input_table.items():\n",
    "                schema_check = True\n",
    "                df = session.table(f\"{database}.{schema}.{intput_table_snowflake}\")\n",
    "\n",
    "                columns = table_schema[input_table].columns\n",
    "                df_cols = [col.lower() for col in df.columns]\n",
    "                schema_cols = [col.lower() for col in columns.keys()]\n",
    "\n",
    "                missing_columns = list(set(schema_cols) - set(df_cols))\n",
    "                extra_columns = list(set(df_cols) - set(schema_cols))\n",
    "\n",
    "                for col in missing_columns:\n",
    "                    validation_status = False\n",
    "                    schema_check = False\n",
    "                    logger.info(f\"Column {col} from schema is missing in the dataframe\")\n",
    "\n",
    "                for col in extra_columns:\n",
    "                    logger.info(f\"Column {col} is present in the dataframe but not specified in the schema\")\n",
    "\n",
    "                for field in df.schema.fields:\n",
    "                    for col_name, col_type in columns.items():\n",
    "                        if col_name == field.name.lower():\n",
    "                            if col_type not in str(field.datatype).lower():\n",
    "                                validation_status = False\n",
    "                                schema_check = False\n",
    "                                logger.info(f\"Dataframe column {col_name} with type ({col_type}) does not match schema column type {field.name} ({field.datatype})\")\n",
    "\n",
    "                logger.info(f\"Validation check for table {intput_table_snowflake}: {'SUCCESS' if schema_check else 'FAIL'}\")\n",
    "                with open(status_file, 'w') as f:\n",
    "                    f.write(f\"Validation status: {validation_status}\")\n",
    "\n",
    "            return validation_status\n",
    "        \n",
    "        except Exception as e:\n",
    "            raise e"
   ]
  },
  {
   "cell_type": "code",
   "execution_count": 7,
   "id": "2391d91d",
   "metadata": {},
   "outputs": [
    {
     "name": "stdout",
     "output_type": "stream",
     "text": [
      "[2025-10-09 16:16:49,854: INFO: common: yaml file: config\\config.yaml loaded successfully]\n",
      "[2025-10-09 16:16:49,859: INFO: common: yaml file: params.yaml loaded successfully]\n",
      "[2025-10-09 16:16:49,867: INFO: common: yaml file: schema.yaml loaded successfully]\n",
      "[2025-10-09 16:16:49,869: INFO: common: created directory at: artifacts]\n",
      "[2025-10-09 16:16:49,871: INFO: common: created directory at: artifacts/data_validation]\n",
      "[2025-10-09 16:16:49,961: INFO: 3478419935: Validation check for table candidates: SUCCESS]\n",
      "[2025-10-09 16:16:50,149: INFO: 3478419935: Validation check for table italian_cities: SUCCESS]\n"
     ]
    }
   ],
   "source": [
    "try:\n",
    "    config = ConfigurationManager()\n",
    "    data_validation_config = config.get_data_validation_config()\n",
    "    data_validation = DataValidation(config=data_validation_config)\n",
    "    df = data_validation.validate_all_columns(session)\n",
    "except Exception as e:\n",
    "    raise e"
   ]
  }
 ],
 "metadata": {
  "kernelspec": {
   "display_name": "Python 3",
   "language": "python",
   "name": "python3"
  },
  "language_info": {
   "codemirror_mode": {
    "name": "ipython",
    "version": 3
   },
   "file_extension": ".py",
   "mimetype": "text/x-python",
   "name": "python",
   "nbconvert_exporter": "python",
   "pygments_lexer": "ipython3",
   "version": "3.10.11"
  }
 },
 "nbformat": 4,
 "nbformat_minor": 5
}
