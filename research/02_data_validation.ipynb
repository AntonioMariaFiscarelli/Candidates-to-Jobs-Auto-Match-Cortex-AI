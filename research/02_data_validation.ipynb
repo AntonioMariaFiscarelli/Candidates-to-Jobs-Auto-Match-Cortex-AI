{
 "cells": [
  {
   "cell_type": "code",
   "execution_count": 1,
   "id": "c88af9a9",
   "metadata": {},
   "outputs": [
    {
     "data": {
      "text/plain": [
       "'c:\\\\Users\\\\fiscarelli\\\\Desktop\\\\Progetti\\\\Manpower IT\\\\Auto-Match\\\\Candidates-to-Jobs-Auto-Match-Cortex-AI'"
      ]
     },
     "execution_count": 1,
     "metadata": {},
     "output_type": "execute_result"
    }
   ],
   "source": [
    "import os\n",
    "import sys\n",
    "import pandas as pd\n",
    "\n",
    "\n",
    "%pwd\n",
    "os.chdir(\"../\")\n",
    "\n",
    "# Add the absolute path to src/ so Python can find automatch\n",
    "src_path = os.path.abspath(\"src\")\n",
    "if src_path not in sys.path:\n",
    "    sys.path.append(src_path)\n",
    "    \n",
    "%pwd\n"
   ]
  },
  {
   "cell_type": "code",
   "execution_count": 2,
   "id": "88f66edf",
   "metadata": {},
   "outputs": [
    {
     "data": {
      "text/plain": [
       "'c:\\\\Users\\\\fiscarelli\\\\Desktop\\\\Progetti\\\\Manpower IT\\\\Auto-Match\\\\Candidates-to-Jobs-Auto-Match-Cortex-AI'"
      ]
     },
     "execution_count": 2,
     "metadata": {},
     "output_type": "execute_result"
    }
   ],
   "source": [
    "%pwd"
   ]
  },
  {
   "cell_type": "code",
   "execution_count": 3,
   "id": "498caf83",
   "metadata": {},
   "outputs": [
    {
     "name": "stdout",
     "output_type": "stream",
     "text": [
      "[2025-10-02 15:56:23,723: INFO: connection: Snowflake Connector for Python Version: 3.7.0, Python Version: 3.10.11, Platform: Windows-10-10.0.26100-SP0]\n",
      "[2025-10-02 15:56:23,725: INFO: connection: This connection is in OCSP Fail Open Mode. TLS Certificates would be checked for validity and revocation status. Any other Certificate Revocation related exceptions or OCSP Responder failures would be disregarded in favor of connectivity.]\n",
      "Initiating login request with your identity provider. A browser window should have opened for you to complete the login. If you can't see it, check existing browser windows, or your OS settings. Press CTRL+C to abort and try again...\n",
      "Going to open: https://login.microsoftonline.com/e2ba81b8-03fe-407c-96a1-f4bc0f512e7d/saml2?SAMLRequest=nZJBc9owEIX%2Fikc925KNAaMBMk4oDTNpSoBkmt6EvCYqtuRKMg799ZUNzCSH5NCbRnq739O%2BHV%2B9loV3AG2EkhMUBgR5ILnKhNxN0ONm7ifIM5bJjBVKwgQdwaCr6diwsqhoWtsXuYI%2FNRjruUbS0PZhgmotqWJGGCpZCYZaTtfp9zsaBYQyY0Bbh0PnkswIx3qxtqIYN00TNL1A6R2OCCGYjLBTtZIv6A2i%2BpxRaWUVV8Wl5NX96QNEiEncIpzCEZbnwmshTyP4jLI9iQy93WyW%2FvLHeoO89PK7GyVNXYJegz4IDo%2Bru5MB4xxcr0cxiZKgcXPzodaqgoD9rTUERqomL9geuCqr2rrugTvhHDJcqJ1wM1vMJqjai2w4ejoO5pLs4ueRTI7Jz%2Bff6Zo9pN9W97bmNt9nx9vQHNKve8KR93RJOGoTXhhTw0K2uVp3RaK%2BHxKfRJuwR%2FsDGsVBNOz9Qt7M%2BROS2a7yYr7zEZSCa2VUbpUshITOJURbloTbxCe9HPyYDLk%2FGrDQz%2BMtJ3k%2FjGCY4Ta9CJ02iHZG9PR%2F5zLGb7ucl%2FLe5bSYLVUh%2BNGbK10y%2B3GMYRB2NyLz805KoWSiSLNMgzEuzqJQzY0GZt3uW10DwtMT9f32T%2F8B&RelayState=ver%3A1-hint%3A126482531967198-ETMsDgAAAZmlNbRRABRBRVMvQ0JDL1BLQ1M1UGFkZGluZwEAABAAEICO5hX6bTv0kCbAO82itNMAAACgkiD2R%2B2JgubhYKAdIcG25wBb2W1qVqo%2FnQimYf0bL9cbev4NWlfWCayUo%2Frqmhp9zAhDcSliAy0fQunbVSgwnChdOQidw3KPBT3N2tTSmCLOFJ8jn4w5kGHTQHBtqYqLbKzKpkrwt0%2BT39hyJUAu53lZuDng0n0DhSR7eT8b3zdwKC0UM8znDhdGStybclsY5U5bKKLSCuNOMgqzjSJ8sAAUbrfIbV4%2FDPzaqpv560nKCDvnVIg%3D to authenticate...\n",
      "[2025-10-02 15:56:26,790: INFO: session: Snowpark Session information: \n",
      "\"version\" : 1.15.0,\n",
      "\"python.version\" : 3.10.11,\n",
      "\"python.connector.version\" : 3.7.0,\n",
      "\"python.connector.session.id\" : 126482777330206,\n",
      "\"os.name\" : Windows\n",
      "]\n",
      "[2025-10-02 15:56:26,793: INFO: cursor: query: [use database IT_DISCOVERY]]\n",
      "[2025-10-02 15:56:26,896: INFO: cursor: query execution done]\n",
      "[2025-10-02 15:56:26,897: INFO: cursor: Number of results in first chunk: 1]\n",
      "[2025-10-02 15:56:26,898: INFO: cursor: query: [use schema CONSUMER_INT_MODEL]]\n",
      "[2025-10-02 15:56:27,148: INFO: cursor: query execution done]\n",
      "[2025-10-02 15:56:27,149: INFO: cursor: Number of results in first chunk: 1]\n"
     ]
    }
   ],
   "source": [
    "from autoMatch.utils.snowflake_utils import get_snowpark_session\n",
    "session = get_snowpark_session()"
   ]
  },
  {
   "cell_type": "code",
   "execution_count": 4,
   "id": "4480b859",
   "metadata": {},
   "outputs": [],
   "source": [
    "from dataclasses import dataclass\n",
    "from pathlib import Path\n",
    "\n",
    "@dataclass(frozen=True)\n",
    "class DataValidationConfig:\n",
    "    root_dir: str\n",
    "    database: str\n",
    "    schema: str\n",
    "    input_table: str\n",
    "    columns: dict\n",
    "    status_file: str\n"
   ]
  },
  {
   "cell_type": "code",
   "execution_count": null,
   "id": "8f8ebff8",
   "metadata": {},
   "outputs": [],
   "source": [
    "from autoMatch.constants import *\n",
    "from autoMatch.utils.common import read_yaml, create_directories\n",
    "from autoMatch import logger\n",
    "\n",
    "class ConfigurationManager:\n",
    "    def __init__(\n",
    "        self,\n",
    "        config_filepath = CONFIG_FILE_PATH,\n",
    "        params_filepath = PARAMS_FILE_PATH,\n",
    "        schema_filepath = SCHEMA_FILE_PATH):\n",
    "\n",
    "        self.config = read_yaml(config_filepath)\n",
    "        self.params = read_yaml(params_filepath)\n",
    "        self.schema = read_yaml(schema_filepath)\n",
    "\n",
    "        create_directories([self.config.artifacts_root])\n",
    "\n",
    "\n",
    "    \n",
    "    def get_data_validation_config(self) -> DataValidationConfig:\n",
    "        config = self.config.data_validation\n",
    "        schema = self.schema.data_validation\n",
    "\n",
    "        create_directories([config.root_dir])\n",
    "\n",
    "        data_validation_config = DataValidationConfig(\n",
    "            root_dir=config.root_dir,\n",
    "            database=config.database,\n",
    "            schema=config.schema,\n",
    "            input_table=config.input_table,\n",
    "            columns = schema.columns,\n",
    "            status_file = config.STATUS_FILE\n",
    "        )\n",
    "\n",
    "        return data_validation_config"
   ]
  },
  {
   "cell_type": "code",
   "execution_count": null,
   "id": "c4fbb608",
   "metadata": {},
   "outputs": [],
   "source": [
    "class DataValidation:\n",
    "    def __init__(self, config: DataValidationConfig):\n",
    "        self.config = config\n",
    "\n",
    "\n",
    "    def validate_all_columns(self, session)-> bool:\n",
    "        try:\n",
    "            validation_status = True\n",
    "\n",
    "            database = self.config.database\n",
    "            schema = self.config.schema\n",
    "            input_table = self.config.input_table\n",
    "            columns = self.config.columns\n",
    "            status_file = self.config.status_file\n",
    "\n",
    "\n",
    "            df = session.table(f\"{database}.{schema}.{input_table}\")\n",
    "\n",
    "            df_cols = [col.lower() for col in df.columns]\n",
    "            schema_cols = [col.lower() for col in columns.keys()]\n",
    "\n",
    "            missing_columns = list(set(schema_cols) - set(df_cols))\n",
    "            extra_columns = list(set(df_cols) - set(schema_cols))\n",
    "\n",
    "            for col in missing_columns:\n",
    "                validation_status = False\n",
    "                logger.info(f\"Column {col} from schema is missing in the dataframe\")\n",
    "\n",
    "            for col in extra_columns:\n",
    "                logger.info(f\"Column {col} is present in the dataframe but not specified in the schema\")\n",
    "\n",
    "            for field in df.schema.fields:\n",
    "                #print(f\"Column: {field.name}, Type: {field.datatype}\")\n",
    "                for col_name, col_type in columns.items():\n",
    "                    if col_name == field.name.lower():\n",
    "                        #print(f\"Comparing {col_name} ({col_type}) with {field}:\")\n",
    "                        if col_type not in str(field.datatype).lower():\n",
    "                            validation_status = False\n",
    "                            logger.info(f\"Dataframe column {col_name} with type ({col_type}) does not match schema column type {field.name} ({field.datatype})\")\n",
    "\n",
    "            with open(status_file, 'w') as f:\n",
    "                f.write(f\"Validation status: {validation_status}\")\n",
    "\n",
    "\n",
    "\n",
    "            return validation_status\n",
    "        \n",
    "        except Exception as e:\n",
    "            raise e"
   ]
  },
  {
   "cell_type": "code",
   "execution_count": 41,
   "id": "2391d91d",
   "metadata": {},
   "outputs": [
    {
     "name": "stdout",
     "output_type": "stream",
     "text": [
      "[2025-10-02 16:49:40,546: INFO: common: yaml file: config\\config.yaml loaded successfully]\n",
      "[2025-10-02 16:49:40,548: INFO: common: yaml file: params.yaml loaded successfully]\n",
      "[2025-10-02 16:49:40,552: INFO: common: yaml file: schema.yaml loaded successfully]\n",
      "[2025-10-02 16:49:40,554: INFO: common: created directory at: artifacts]\n",
      "[2025-10-02 16:49:40,555: INFO: common: created directory at: artifacts/data_validation]\n",
      "[2025-10-02 16:49:40,557: INFO: cursor: query: [SELECT  *  FROM (IT_DISCOVERY.CONSUMER_INT_MODEL.MPG_IT_AUTOMATCH_CANDIDATE)]]\n",
      "[2025-10-02 16:49:40,638: INFO: cursor: query execution done]\n",
      "[2025-10-02 16:49:40,640: INFO: cursor: Number of results in first chunk: 0]\n",
      "Column: DATE_ADDED, Type: TimestampType(tz=ntz)\n",
      "Comparing date_added (timestamp) with StructField('DATE_ADDED', TimestampType(tz=ntz), nullable=True):\n",
      "Column: CANDIDATEID, Type: LongType()\n",
      "Comparing candidateid (long) with StructField('CANDIDATEID', LongType(), nullable=True):\n",
      "Column: DESCRIPTION, Type: StringType(16777216)\n",
      "Comparing description (long) with StructField('DESCRIPTION', StringType(16777216), nullable=True):\n",
      "[2025-10-02 16:49:40,642: INFO: 2707512130: Dataframe column description (long) does not match schema column DESCRIPTION (StringType(16777216))]\n",
      "\n"
     ]
    }
   ],
   "source": [
    "try:\n",
    "    config = ConfigurationManager()\n",
    "    data_validation_config = config.get_data_validation_config()\n",
    "    data_validation = DataValidation(config=data_validation_config)\n",
    "    df = data_validation.validate_all_columns(session)\n",
    "except Exception as e:\n",
    "    raise e"
   ]
  }
 ],
 "metadata": {
  "kernelspec": {
   "display_name": "Python 3",
   "language": "python",
   "name": "python3"
  },
  "language_info": {
   "codemirror_mode": {
    "name": "ipython",
    "version": 3
   },
   "file_extension": ".py",
   "mimetype": "text/x-python",
   "name": "python",
   "nbconvert_exporter": "python",
   "pygments_lexer": "ipython3",
   "version": "3.10.11"
  }
 },
 "nbformat": 4,
 "nbformat_minor": 5
}
