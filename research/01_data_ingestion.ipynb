{
 "cells": [
  {
   "cell_type": "code",
   "execution_count": 1,
   "id": "875de2a6",
   "metadata": {},
   "outputs": [
    {
     "data": {
      "text/plain": [
       "'c:\\\\Users\\\\fiscarelli\\\\Desktop\\\\Progetti\\\\Manpower IT\\\\Auto-Match\\\\Candidates-to-Jobs-Auto-Match-Cortex-AI'"
      ]
     },
     "execution_count": 1,
     "metadata": {},
     "output_type": "execute_result"
    }
   ],
   "source": [
    "import os\n",
    "import sys\n",
    "import pandas as pd\n",
    "\n",
    "\n",
    "%pwd\n",
    "os.chdir(\"../\")\n",
    "\n",
    "# Add the absolute path to src/ so Python can find automatch\n",
    "src_path = os.path.abspath(\"src\")\n",
    "if src_path not in sys.path:\n",
    "    sys.path.append(src_path)\n",
    "    \n",
    "%pwd\n"
   ]
  },
  {
   "cell_type": "code",
   "execution_count": 2,
   "id": "a5c1705f",
   "metadata": {},
   "outputs": [
    {
     "data": {
      "text/plain": [
       "'c:\\\\Users\\\\fiscarelli\\\\Desktop\\\\Progetti\\\\Manpower IT\\\\Auto-Match\\\\Candidates-to-Jobs-Auto-Match-Cortex-AI'"
      ]
     },
     "execution_count": 2,
     "metadata": {},
     "output_type": "execute_result"
    }
   ],
   "source": [
    "%pwd\n"
   ]
  },
  {
   "cell_type": "code",
   "execution_count": 3,
   "id": "ef9155a3",
   "metadata": {},
   "outputs": [
    {
     "name": "stdout",
     "output_type": "stream",
     "text": [
      "[2025-10-01 17:14:55,367: INFO: connection: Snowflake Connector for Python Version: 3.7.0, Python Version: 3.10.11, Platform: Windows-10-10.0.26100-SP0]\n",
      "[2025-10-01 17:14:55,369: INFO: connection: This connection is in OCSP Fail Open Mode. TLS Certificates would be checked for validity and revocation status. Any other Certificate Revocation related exceptions or OCSP Responder failures would be disregarded in favor of connectivity.]\n",
      "Initiating login request with your identity provider. A browser window should have opened for you to complete the login. If you can't see it, check existing browser windows, or your OS settings. Press CTRL+C to abort and try again...\n",
      "Going to open: https://login.microsoftonline.com/e2ba81b8-03fe-407c-96a1-f4bc0f512e7d/saml2?SAMLRequest=nZJBc9owEIX%2Fikc925IdA0YDZEiYtExJwwTIgZuQ10RFllxJxpBfX9mEmfSQHHrzyG%2F3e7tvR7enUgZHMFZoNUZxRFAAiutcqP0YbdYPYYYC65jKmdQKxugMFt1ORpaVsqLT2r2qZ%2FhTg3WBb6QsbX%2BMUW0U1cwKSxUrwVLH6Wr6uKBJRCizFozzOPReklvhWa%2FOVRTjpmmi5ibSZo8TQggmQ%2BxVreQb%2BoCovmZURjvNtbyWnPxMnyBiTNIW4RWesHwvvBPqsoKvKLuLyNIf6%2FUyXD6t1iiYXqe718rWJZgVmKPgsHleXAxY7%2BBuNUxJkkWN31sItdEVROytNhBZpZtCsgNwXVa1890j%2F4ULyLHUe%2BF3Np%2BNUXUQuUozOTwszmfJgEk2eBKHdCv7x9PLz%2F3x%2B1Jxtt2Ufpjp70eOgpdrwkmb8NzaGuaqzdX5J5L0wpiEJF7HPRqntNePyDDbomDm%2FQnFXFd5Nd%2F5iErBjba6cFpJoaBzCcmOZfEuC8lNAWFKBjwc9lkcFumOk6IXJzDIcZtegi4XRDsjZvK%2Fexnhj13ej%2FKXz2k%2BW2op%2BDl40KZk7vMY4yjuXkQeFp2UQsmEnOa5AWt9nFLq5t4Ac%2F72nakB4cmF%2Bu%2F1T%2F4C&RelayState=ver%3A1-hint%3A126482531967198-ETMsDgAAAZmgVz3iABRBRVMvQ0JDL1BLQ1M1UGFkZGluZwEAABAAEF%2BwlokM9oR8FWrALmfIH1QAAACglBD6shJZwffqthHgQW9ZLtnQKkv2B6TvdThmYwF%2Fr1yLfXUOC2%2BUNNLS447yDWCnu1AVsnPsp2HxLhYBoEfY90ALNWgHgxGs9vF0pKORorSAXF%2FqtUtkq5ie5K8qxO7ss8kzuzTs1d0IN8sAMZWJd3iprZ6SUhQ%2FR%2FYEShYF0x9G8tKtKya1CmTkB8qkBZ5Aegz%2Fu8EJyUYGrRlbfJ0%2FBAAUqMMwxNif1UJ7kQ6E3yGLgPz5xXU%3D to authenticate...\n",
      "[2025-10-01 17:14:59,057: INFO: session: Snowpark Session information: \n",
      "\"version\" : 1.15.0,\n",
      "\"python.version\" : 3.10.11,\n",
      "\"python.connector.version\" : 3.7.0,\n",
      "\"python.connector.session.id\" : 126482776952462,\n",
      "\"os.name\" : Windows\n",
      "]\n",
      "[2025-10-01 17:14:59,059: INFO: cursor: query: [use database IT_DISCOVERY]]\n",
      "[2025-10-01 17:14:59,210: INFO: cursor: query execution done]\n",
      "[2025-10-01 17:14:59,211: INFO: cursor: Number of results in first chunk: 1]\n",
      "[2025-10-01 17:14:59,212: INFO: cursor: query: [use schema CONSUMER_INT_MODEL]]\n",
      "[2025-10-01 17:14:59,338: INFO: cursor: query execution done]\n",
      "[2025-10-01 17:14:59,340: INFO: cursor: Number of results in first chunk: 1]\n"
     ]
    }
   ],
   "source": [
    "from autoMatch.utils.snowflake_utils import get_snowpark_session\n",
    "session = get_snowpark_session()"
   ]
  },
  {
   "cell_type": "code",
   "execution_count": 4,
   "id": "bbc40000",
   "metadata": {},
   "outputs": [],
   "source": [
    "from dataclasses import dataclass\n",
    "from pathlib import Path\n",
    "\n",
    "@dataclass(frozen=True)\n",
    "class DataIngestionConfig:\n",
    "    root_dir: str\n",
    "    database: str\n",
    "    schema: str\n",
    "    input_table: str\n",
    "    output_table: str\n",
    "    columns: dict\n",
    "    start_date: str\n",
    "    end_date: str\n"
   ]
  },
  {
   "cell_type": "code",
   "execution_count": 5,
   "id": "cdecf2c1",
   "metadata": {},
   "outputs": [],
   "source": [
    "from autoMatch.constants import *\n",
    "from autoMatch.utils.common import read_yaml, create_directories\n",
    "from autoMatch import logger\n",
    "\n",
    "class ConfigurationManager:\n",
    "    def __init__(\n",
    "        self,\n",
    "        config_filepath = CONFIG_FILE_PATH,\n",
    "        params_filepath = PARAMS_FILE_PATH,\n",
    "        schema_filepath = SCHEMA_FILE_PATH):\n",
    "\n",
    "        self.config = read_yaml(config_filepath)\n",
    "        self.params = read_yaml(params_filepath)\n",
    "        self.schema = read_yaml(schema_filepath)\n",
    "\n",
    "        create_directories([self.config.artifacts_root])\n",
    "\n",
    "\n",
    "    \n",
    "    def get_data_ingestion_config(self) -> DataIngestionConfig:\n",
    "        config = self.config.data_ingestion\n",
    "        schema = self.schema.data_ingestion\n",
    "\n",
    "        create_directories([config.root_dir])\n",
    "\n",
    "        data_ingestion_config = DataIngestionConfig(\n",
    "            root_dir=config.root_dir,\n",
    "            database=config.database,\n",
    "            schema=config.schema,\n",
    "            input_table=config.input_table,\n",
    "            output_table = config.output_table,\n",
    "            columns = schema.columns,\n",
    "            start_date = schema.date_range.start_date,\n",
    "            end_date = schema.date_range.end_date\n",
    "        )\n",
    "\n",
    "        return data_ingestion_config"
   ]
  },
  {
   "cell_type": "code",
   "execution_count": 8,
   "id": "af745682",
   "metadata": {},
   "outputs": [],
   "source": [
    "from snowflake.snowpark.functions import col\n",
    "\n",
    "class DataIngestion:\n",
    "    def __init__(self, config: DataIngestionConfig):\n",
    "        self.config = config\n",
    "\n",
    "    def read_table(self, session):\n",
    "        \"\"\"\n",
    "        Reads input table\n",
    "        Function returns Snowflake dataframe\n",
    "        \"\"\"\n",
    "        database = self.config.database\n",
    "        schema = self.config.schema\n",
    "        input_table = self.config.input_table\n",
    "        columns = self.config.columns\n",
    "        start_date = self.config.start_date\n",
    "        end_date = self.config.end_date\n",
    "\n",
    "        print(columns)\n",
    "        df = session.table(f\"{database}.{schema}.{input_table}\")\n",
    "        df = df.select([col(c) for c in columns])\n",
    "        df = df.filter((col(\"date_added\") >= start_date) & (col(\"date_added\") <= end_date))\n",
    "        logger.info(f\"Table {input_table} successfully read. Number of rows: {df.count()}\")\n",
    "\n",
    "        return df\n",
    "\n",
    "\n",
    "    def write_table(self, session, df):\n",
    "        \"\"\"\n",
    "        Writes input table\n",
    "        Function returns nothing\n",
    "        \"\"\"\n",
    "        output_table = self.config.output_table\n",
    "\n",
    "        #df.write.save_as_table(output_table, mode=\"overwrite\")\n",
    "        logger.info(f\"Table {output_table} successfully written\")\n",
    "\n",
    "  \n"
   ]
  },
  {
   "cell_type": "code",
   "execution_count": 9,
   "id": "4352f8cc",
   "metadata": {},
   "outputs": [
    {
     "name": "stdout",
     "output_type": "stream",
     "text": [
      "[2025-10-01 17:15:50,322: INFO: common: yaml file: config\\config.yaml loaded successfully]\n",
      "[2025-10-01 17:15:50,324: INFO: common: yaml file: params.yaml loaded successfully]\n",
      "[2025-10-01 17:15:50,326: INFO: common: yaml file: schema.yaml loaded successfully]\n",
      "[2025-10-01 17:15:50,328: INFO: common: created directory at: artifacts]\n",
      "[2025-10-01 17:15:50,331: INFO: common: created directory at: artifacts/data_ingestion]\n",
      "['date_added', 'candidateid', 'description']\n",
      "[2025-10-01 17:15:50,333: INFO: cursor: query: [SELECT  *  FROM IT_DISCOVERY.CONSUMER_INT_MODEL.CANDIDATE_CLEANED]]\n",
      "[2025-10-01 17:15:51,999: INFO: cursor: query execution done]\n",
      "[2025-10-01 17:15:52,001: INFO: cursor: Number of results in first chunk: 0]\n",
      "[2025-10-01 17:15:52,009: INFO: cursor: query: [SELECT count(1) AS \"COUNT(LITERAL())\" FROM ( SELECT \"DATE_ADDED\", \"CANDIDATEID\",...]]\n",
      "[2025-10-01 17:16:06,659: INFO: cursor: query execution done]\n",
      "[2025-10-01 17:16:06,660: INFO: cursor: Number of results in first chunk: 1]\n",
      "[2025-10-01 17:16:06,662: INFO: 3696672005: Table CANDIDATE_CLEANED successfully read. Number of rows: 39883]\n",
      "[2025-10-01 17:16:06,663: INFO: 3696672005: Table MPG_IT_AUTOMATCH_CANDIDATE successfully written]\n"
     ]
    }
   ],
   "source": [
    "try:\n",
    "    config = ConfigurationManager()\n",
    "    data_ingestion_config = config.get_data_ingestion_config()\n",
    "    data_ingestion = DataIngestion(config=data_ingestion_config)\n",
    "    df = data_ingestion.read_table(session)\n",
    "    data_ingestion.write_table(session, df)\n",
    "except Exception as e:\n",
    "    raise e"
   ]
  },
  {
   "cell_type": "code",
   "execution_count": null,
   "id": "4fbeba94",
   "metadata": {},
   "outputs": [],
   "source": [
    "\n"
   ]
  }
 ],
 "metadata": {
  "kernelspec": {
   "display_name": "Python 3",
   "language": "python",
   "name": "python3"
  },
  "language_info": {
   "codemirror_mode": {
    "name": "ipython",
    "version": 3
   },
   "file_extension": ".py",
   "mimetype": "text/x-python",
   "name": "python",
   "nbconvert_exporter": "python",
   "pygments_lexer": "ipython3",
   "version": "3.10.11"
  }
 },
 "nbformat": 4,
 "nbformat_minor": 5
}
