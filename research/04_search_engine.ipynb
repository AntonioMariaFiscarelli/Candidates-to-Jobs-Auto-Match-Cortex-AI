{
 "cells": [
  {
   "cell_type": "code",
   "execution_count": 1,
   "id": "875de2a6",
   "metadata": {},
   "outputs": [
    {
     "data": {
      "text/plain": [
       "'c:\\\\Users\\\\fiscarelli\\\\Desktop\\\\Progetti\\\\Manpower IT\\\\Auto-Match\\\\Candidates-to-Jobs-Auto-Match-Cortex-AI'"
      ]
     },
     "execution_count": 1,
     "metadata": {},
     "output_type": "execute_result"
    }
   ],
   "source": [
    "import os\n",
    "import sys\n",
    "\n",
    "import logging\n",
    "\n",
    "logging.getLogger(\"snowflake\").setLevel(logging.WARNING)\n",
    "logging.getLogger(\"snowflake.connector\").setLevel(logging.WARNING)\n",
    "logging.getLogger(\"snowflake.snowpark\").setLevel(logging.WARNING)\n",
    "\n",
    "\n",
    "%pwd\n",
    "os.chdir(\"../\")\n",
    "\n",
    "# Add the absolute path to src/ so Python can find automatch\n",
    "src_path = os.path.abspath(\"src\")\n",
    "if src_path not in sys.path:\n",
    "    sys.path.append(src_path)\n",
    "    \n",
    "%pwd\n"
   ]
  },
  {
   "cell_type": "code",
   "execution_count": 2,
   "id": "a5c1705f",
   "metadata": {},
   "outputs": [
    {
     "data": {
      "text/plain": [
       "'c:\\\\Users\\\\fiscarelli\\\\Desktop\\\\Progetti\\\\Manpower IT\\\\Auto-Match\\\\Candidates-to-Jobs-Auto-Match-Cortex-AI'"
      ]
     },
     "execution_count": 2,
     "metadata": {},
     "output_type": "execute_result"
    }
   ],
   "source": [
    "%pwd\n"
   ]
  },
  {
   "cell_type": "code",
   "execution_count": 3,
   "id": "ef9155a3",
   "metadata": {},
   "outputs": [
    {
     "name": "stdout",
     "output_type": "stream",
     "text": [
      "Initiating login request with your identity provider. A browser window should have opened for you to complete the login. If you can't see it, check existing browser windows, or your OS settings. Press CTRL+C to abort and try again...\n",
      "Going to open: https://login.microsoftonline.com/e2ba81b8-03fe-407c-96a1-f4bc0f512e7d/saml2?SAMLRequest=nZLBctowEIZfxaOebUsOKVgDZEgcCp20oeB0Mr0Ja01UZMmVZEzy9BUmnkkPyaE3j%2Fzt6tP%2BO746VjI4gLFCqwkiEUYBqEJzoXYT9JDPwxEKrGOKM6kVTNAzWHQ1HVtWyZrOGvek1vCnAesC30hZ2v2YoMYoqpkVlipWgaWuoJvZtzuaRJjWRjtdaInelHxcwawF47xhX8Kt8HpPztU0jtu2jdqLSJtdnGCMY5zGnjohn3r%2B6N%2F0Dk9iPDjxnvD46tXtWqjzCD7S2p4hSxd5vgpX95scBbNe9UYr21RgNmAOooCH9d1ZwHqD6006wMkoav3cQmiMriFiL42ByCrdlpLtodBV3TjfPfJfcQk8lnon%2FACW2QTVe8F3XDKcZ%2BXj4y5L2e0hZfPsvl7fHiq%2B4IvlvhLb49fZ7y8v5Y8CBT%2F7hJNTwktrG1iqU67OH%2BHkMiQ4TEhOMCUpxaNoQIa%2FUJB5P6GY6yp7%2Bc4jqkRhtNWl00oKBZ0lJFs2IttRiC9KCAd4WITpZ0bCcrAtcHlJEhjy%2BJR2gs4bRDsRM%2F3fuYzjt11el%2FK7z2mZrbQUxXMw16Zi7v0YSUS6E8HDskMpVEzIGecGrPVxSqnbGwPM%2Bd13pgEUT8%2B3%2Frv9078%3D&RelayState=ver%3A1-hint%3A126482533224670-ETMsDgAAAZoGR58AABRBRVMvQ0JDL1BLQ1M1UGFkZGluZwEAABAAELwKXyfZBQCvc2uNrdHToJcAAACghaxLK6uV3amdxiPLx6ZCbDpD4ZuC82FUQ%2F4iAqJegDTtOdU4Qp90Q5gx3jugc9sqO94pOwTktECRQ6cCrfXTpb1GyZZF617uj%2FRPnopdG7XNSM0b922LRnxi%2Bu0rfOqjcMtegk8VmQpL%2Bd1R6B4e2Dp7Ox8jHSrzKPuu9RrMXFOooe8Z8S3toNP6gGH%2BKYZtS%2F0junJ19YdAhL1I0VaCagAUtLGfNMohiv1Fdn2K5vsVtsQwphY%3D to authenticate...\n"
     ]
    }
   ],
   "source": [
    "from autoMatch.utils.snowflake_utils import get_snowpark_session\n",
    "session = get_snowpark_session()"
   ]
  },
  {
   "cell_type": "code",
   "execution_count": 4,
   "id": "bbc40000",
   "metadata": {},
   "outputs": [],
   "source": [
    "from dataclasses import dataclass\n",
    "from pathlib import Path\n",
    "\n",
    "@dataclass(frozen=True)\n",
    "class SearchEngineConfig:\n",
    "    root_dir: str\n",
    "    database: str\n",
    "    schema: str\n",
    "    input_table: str\n",
    "    search_columns : dict\n",
    "    attributes_columns: dict\n",
    "    columns: dict\n",
    "    search_service: str\n"
   ]
  },
  {
   "cell_type": "code",
   "execution_count": 5,
   "id": "cdecf2c1",
   "metadata": {},
   "outputs": [],
   "source": [
    "from autoMatch.constants import *\n",
    "from autoMatch.utils.common import read_yaml, create_directories\n",
    "\n",
    "class ConfigurationManager:\n",
    "    def __init__(\n",
    "        self,\n",
    "        config_filepath = CONFIG_FILE_PATH,\n",
    "        params_filepath = PARAMS_FILE_PATH,\n",
    "        schema_filepath = SCHEMA_FILE_PATH):\n",
    "\n",
    "        self.config = read_yaml(config_filepath)\n",
    "        self.params = read_yaml(params_filepath)\n",
    "        self.schema = read_yaml(schema_filepath)\n",
    "\n",
    "        create_directories([self.config.artifacts_root])\n",
    "\n",
    "\n",
    "    def get_search_engine_config(self) -> SearchEngineConfig:\n",
    "        config = self.config.search_engine\n",
    "        schema = self.schema.search_engine\n",
    "\n",
    "        create_directories([config.root_dir])\n",
    "\n",
    "        search_engine_config = SearchEngineConfig(\n",
    "            root_dir=config.root_dir,\n",
    "            database=config.database,\n",
    "            schema=config.schema,\n",
    "            input_table=config.input_table,\n",
    "            search_service=config.search_service,\n",
    "            search_columns=schema.search_columns,\n",
    "            attributes_columns = schema.attributes_columns,\n",
    "            columns = schema.columns\n",
    "        )\n",
    "\n",
    "        return search_engine_config"
   ]
  },
  {
   "cell_type": "code",
   "execution_count": null,
   "id": "af745682",
   "metadata": {},
   "outputs": [],
   "source": [
    "from autoMatch import logger\n",
    "from dotenv import load_dotenv\n",
    "from snowflake.core import Root\n",
    "\n",
    "        \n",
    "class SearchEngine:\n",
    "    def __init__(self, config: SearchEngineConfig):\n",
    "        self.config = config\n",
    "\n",
    "   \n",
    "    def create_semantic_search_engine(self, session):\n",
    "        \"\"\"\n",
    "        Creates Cortex Search Service on input table\n",
    "\n",
    "        Function returns nothing\n",
    "        \"\"\"\n",
    "\n",
    "        database = self.config.database\n",
    "        schema = self.config.schema\n",
    "        input_table = self.config.input_table\n",
    "        search_service = self.config.search_service\n",
    "        search_columns = self.config.search_columns\n",
    "        attributes_columns = self.config.attributes_columns\n",
    "        columns = self.config.columns\n",
    "\n",
    "        load_dotenv()\n",
    "        warehouse = os.getenv(\"SNOWFLAKE_WAREHOUSE\")\n",
    "\n",
    "        description_expr = \" || '\\\\n' || \".join([\n",
    "            f\"'{' '.join(col.strip().split('_')).capitalize()}: ' || {col.strip()}\"\n",
    "            for col in search_columns\n",
    "        ]) \n",
    "               \n",
    "        query = f\"\"\"\n",
    "            CREATE OR REPLACE CORTEX SEARCH SERVICE {search_service}\n",
    "            ON description\n",
    "            ATTRIBUTES {\", \".join(attributes_columns)}\n",
    "            WAREHOUSE = {warehouse}\n",
    "            TARGET_LAG = '1 hour'\n",
    "            AS (\n",
    "                SELECT {\", \".join(columns)},\n",
    "                ({description_expr}) as description\n",
    "                FROM {database}.{schema}.{input_table}\n",
    "                );\n",
    "            \"\"\"\n",
    "\n",
    "        session.sql(query).collect()\n",
    "        logger.info(f\"Cortex search index {search_service} successfully defined on table {input_table}\")\n",
    "\n",
    "        \n",
    "    def get_column_specification(self, session):\n",
    "        \"\"\"\n",
    "        Get Search Service columns:\n",
    "            - search columns\n",
    "            - attribute columns\n",
    "            - all columns involved\n",
    "        Function returns nothin\n",
    "        \"\"\"\n",
    "\n",
    "        database = self.config.database\n",
    "        schema = self.config.schema\n",
    "        search_service = self.config.search_service\n",
    "\n",
    "        search_service_result = session.sql(f\"DESC CORTEX SEARCH SERVICE {database}.{schema}.{search_service}\").collect()[0]\n",
    "        attribute_columns = search_service_result.attribute_columns.split(\",\")\n",
    "        search_columns = search_service_result.search_column\n",
    "        columns = search_service_result.columns.split(\",\")\n",
    "\n",
    "        logger.info(f\"Column specifications: \\nSearch columns: {search_columns} \\nAttribute columns: {attribute_columns} \\nAll columns: {columns}\")\n",
    "\n",
    "        return search_service, attribute_columns, search_columns, columns\n",
    "    \n",
    "    def query_cortex_search_service(self, session, query, filter={}, limit=5):\n",
    "        \"\"\"\n",
    "        Queries the cortex search service in the session state and returns a list of results\n",
    "\n",
    "        Returns query results\n",
    "        \"\"\"\n",
    "\n",
    "        database = self.config.database\n",
    "        schema = self.config.schema\n",
    "        search_service = self.config.search_service\n",
    "        columns = self.config.columns\n",
    "\n",
    "        #_, _, _, columns = self.get_column_specification(session)\n",
    "\n",
    "        cortex_search_service = (\n",
    "            Root(session)\n",
    "            .databases[database]\n",
    "            .schemas[schema]\n",
    "            .cortex_search_services[search_service]\n",
    "        )\n",
    "        context_documents = cortex_search_service.search(\n",
    "            query,\n",
    "            columns=columns,\n",
    "            filter=filter,\n",
    "            limit=limit)\n",
    "        \n",
    "        return context_documents.results\n",
    "    \n",
    "    def create_filter(self, max_age=None, province=None):\n",
    "        \"\"\"\n",
    "        Create a filter object to include only candidates with:\n",
    "        - age <= max_age (if provided)\n",
    "        - AND province_ext == province (if provided)\n",
    "        \"\"\"\n",
    "        filter_clauses = []\n",
    "\n",
    "        # Age clause\n",
    "        if max_age is not None:\n",
    "            age_clause = { \"@lte\": { \"age\": max_age } }\n",
    "            filter_clauses.append(age_clause)\n",
    "\n",
    "        # Province clause\n",
    "        if province:\n",
    "            province_clause = { \"@eq\": { \"province_ext\": province } }\n",
    "            filter_clauses.append(province_clause)\n",
    "\n",
    "        # Return combined filter if any clauses exist\n",
    "        if filter_clauses:\n",
    "            return { \"@and\": filter_clauses }\n",
    "        else:\n",
    "            return {}  # No filters applied"
   ]
  },
  {
   "cell_type": "code",
   "execution_count": null,
   "id": "68d69f69",
   "metadata": {},
   "outputs": [
    {
     "name": "stdout",
     "output_type": "stream",
     "text": [
      "[2025-10-21 12:26:41,348: INFO: common: yaml file: config\\config.yaml loaded successfully]\n",
      "[2025-10-21 12:26:41,350: INFO: common: yaml file: params.yaml loaded successfully]\n",
      "[2025-10-21 12:26:41,356: INFO: common: yaml file: schema.yaml loaded successfully]\n",
      "[2025-10-21 12:26:41,359: INFO: common: created directory at: artifacts]\n",
      "[2025-10-21 12:26:41,361: INFO: common: created directory at: artifacts/search_engine]\n",
      "{'skills': 'python, r, sql, postgresql, machine learning, git, linux, java, apache spark, mysql, stata, numpy, pandas, scikit-learn, matplotlib', '@scores': {'text_match': 0.13517979, 'cosine_similarity': 0.5679546}, 'province_ext': 'Roma', 'third_last_job': 'ricercatore statistico', 'second_last_job': 'analista funzionale', 'location': 'roma', 'candidateid': '5562519', 'last_job': 'data scientist', 'age': '33'}\n",
      "\n",
      "{'skills': 'python, java, c, pandas, pydicom, machine learning, intelligenza artificiale, programmazione web, basi di dati', '@scores': {'text_match': 0.00490691, 'cosine_similarity': 0.59511113}, 'province_ext': 'Campobasso', 'third_last_job': 'babysitter e aiuto compiti', 'location': 'montagano', 'second_last_job': 'tirocinante', 'candidateid': '5543415', 'last_job': 'tirocinante', 'age': '30'}\n",
      "\n",
      "{'skills': 'python, r, sql, data visualization, web analytics, business intelligence, pacchetto office, social network, comunicazione, gestione progetti', '@scores': {'text_match': 0.019015443, 'cosine_similarity': 0.5587316}, 'province_ext': 'Cosenza', 'third_last_job': 'informatore turistico', 'second_last_job': 'articolista', 'location': 'paola', 'last_job': 'data analyst', 'candidateid': '5527020', 'age': '36'}\n",
      "\n",
      "{'skills': 'python, github, pandas, scikit-learn, sql, power bi, langchain, chromadb, hugging face, rag', '@scores': {'text_match': 0.008320814, 'cosine_similarity': 0.56026876}, 'province_ext': 'Bologna', 'third_last_job': 'ingegnere del suono', 'second_last_job': 'data analyst', 'location': 'san giovanni in persiceto', 'candidateid': '5522469', 'last_job': 'ai engineer/developer', 'age': '27'}\n",
      "\n",
      "{'skills': 'python, r, analisi dati, comunicazione efficace, problem-solving, gestione dello stress, adattabilità', '@scores': {'text_match': 0.00490691, 'cosine_similarity': 0.56631494}, 'province_ext': 'Roma', 'third_last_job': 'docente di matematica e fisica', 'second_last_job': 'docente di matematica e fisica', 'location': 'roma', 'candidateid': '5549278', 'last_job': 'docente di matematica e fisica', 'age': '33'}\n",
      "\n"
     ]
    },
    {
     "data": {
      "text/plain": [
       "'\\nTODO\\n\\n1. search service as is, filter on age. then crate app\\n2. add distance_km column in data_transformation and include it when creating the search service, then compute it based on location inserted in the app. and use it as filter\\n3. add hard skills in the filter (must convert skills column from a string of comma-separated skills to a vector of skills)\\n'"
      ]
     },
     "execution_count": 18,
     "metadata": {},
     "output_type": "execute_result"
    }
   ],
   "source": [
    "try:\n",
    "    config = ConfigurationManager()\n",
    "    search_engine_config = config.get_search_engine_config()\n",
    "    search_engine = SearchEngine(config=search_engine_config)\n",
    "    #search_engine.create_semantic_search_engine(session)\n",
    "    #search_engine.get_column_specification(session)\n",
    "    results = search_engine.query_cortex_search_service(session, \n",
    "                                                        query='Data Scientist con esperienza in Python', \n",
    "                                                        filter=search_engine.create_filter(40, 'Torino'), \n",
    "                                                        limit=5)\n",
    "    for result in results:\n",
    "        print(result)\n",
    "        print(\"\")\n",
    "\n",
    "except Exception as e:\n",
    "    raise e\n",
    "\n",
    "'''\n",
    "TODO\n",
    "\n",
    "1. search service as is, filter on age. then crate app\n",
    "2. add distance_km column in data_transformation and include it when creating the search service, then compute it based on location inserted in the app. and use it as filter\n",
    "3. add hard skills in the filter (must convert skills column from a string of comma-separated skills to a vector of skills)\n",
    "'''\n"
   ]
  },
  {
   "cell_type": "code",
   "execution_count": 19,
   "id": "5aaafd1f",
   "metadata": {},
   "outputs": [
    {
     "ename": "SnowparkSQLException",
     "evalue": "(1304): 01bfdb32-0207-6a1b-0000-7309447ea38e: 001003 (42000): SQL compilation error:\nsyntax error line 3 at position 38 unexpected '<EOF>'.",
     "output_type": "error",
     "traceback": [
      "\u001b[1;31m---------------------------------------------------------------------------\u001b[0m",
      "\u001b[1;31mSnowparkSQLException\u001b[0m                      Traceback (most recent call last)",
      "Cell \u001b[1;32mIn[19], line 4\u001b[0m\n\u001b[0;32m      1\u001b[0m \u001b[43msession\u001b[49m\u001b[38;5;241;43m.\u001b[39;49m\u001b[43msql\u001b[49m\u001b[43m(\u001b[49m\u001b[38;5;124;43m\"\"\"\u001b[39;49m\u001b[38;5;124;43mselect * \u001b[39;49m\n\u001b[0;32m      2\u001b[0m \u001b[38;5;124;43m            from IT_DISCOVERY.CONSUMER_INT_MODEL.MPG_IT_AUTOMATCH_CANDIDATE_FEATURES\u001b[39;49m\n\u001b[0;32m      3\u001b[0m \u001b[38;5;124;43m            where distance_km < 20 and\u001b[39;49m\n\u001b[1;32m----> 4\u001b[0m \u001b[38;5;124;43m            \u001b[39;49m\u001b[38;5;124;43m\"\"\"\u001b[39;49m\u001b[43m)\u001b[49m\u001b[38;5;241;43m.\u001b[39;49m\u001b[43mcollect\u001b[49m\u001b[43m(\u001b[49m\u001b[43m)\u001b[49m\n",
      "File \u001b[1;32mc:\\Users\\fiscarelli\\Desktop\\Progetti\\Manpower IT\\Auto-Match\\Candidates-to-Jobs-Auto-Match-Cortex-AI\\venv\\lib\\site-packages\\snowflake\\snowpark\\_internal\\telemetry.py:144\u001b[0m, in \u001b[0;36mdf_collect_api_telemetry.<locals>.wrap\u001b[1;34m(*args, **kwargs)\u001b[0m\n\u001b[0;32m    141\u001b[0m \u001b[38;5;129m@functools\u001b[39m\u001b[38;5;241m.\u001b[39mwraps(func)\n\u001b[0;32m    142\u001b[0m \u001b[38;5;28;01mdef\u001b[39;00m\u001b[38;5;250m \u001b[39m\u001b[38;5;21mwrap\u001b[39m(\u001b[38;5;241m*\u001b[39margs, \u001b[38;5;241m*\u001b[39m\u001b[38;5;241m*\u001b[39mkwargs):\n\u001b[0;32m    143\u001b[0m     \u001b[38;5;28;01mwith\u001b[39;00m args[\u001b[38;5;241m0\u001b[39m]\u001b[38;5;241m.\u001b[39m_session\u001b[38;5;241m.\u001b[39mquery_history() \u001b[38;5;28;01mas\u001b[39;00m query_history:\n\u001b[1;32m--> 144\u001b[0m         result \u001b[38;5;241m=\u001b[39m func(\u001b[38;5;241m*\u001b[39margs, \u001b[38;5;241m*\u001b[39m\u001b[38;5;241m*\u001b[39mkwargs)\n\u001b[0;32m    145\u001b[0m     plan \u001b[38;5;241m=\u001b[39m args[\u001b[38;5;241m0\u001b[39m]\u001b[38;5;241m.\u001b[39m_select_statement \u001b[38;5;129;01mor\u001b[39;00m args[\u001b[38;5;241m0\u001b[39m]\u001b[38;5;241m.\u001b[39m_plan\n\u001b[0;32m    146\u001b[0m     api_calls \u001b[38;5;241m=\u001b[39m [\n\u001b[0;32m    147\u001b[0m         \u001b[38;5;241m*\u001b[39mplan\u001b[38;5;241m.\u001b[39mapi_calls,\n\u001b[0;32m    148\u001b[0m         {TelemetryField\u001b[38;5;241m.\u001b[39mNAME\u001b[38;5;241m.\u001b[39mvalue: \u001b[38;5;124mf\u001b[39m\u001b[38;5;124m\"\u001b[39m\u001b[38;5;124mDataFrame.\u001b[39m\u001b[38;5;132;01m{\u001b[39;00mfunc\u001b[38;5;241m.\u001b[39m\u001b[38;5;18m__name__\u001b[39m\u001b[38;5;132;01m}\u001b[39;00m\u001b[38;5;124m\"\u001b[39m},\n\u001b[0;32m    149\u001b[0m     ]\n",
      "File \u001b[1;32mc:\\Users\\fiscarelli\\Desktop\\Progetti\\Manpower IT\\Auto-Match\\Candidates-to-Jobs-Auto-Match-Cortex-AI\\venv\\lib\\site-packages\\snowflake\\snowpark\\dataframe.py:597\u001b[0m, in \u001b[0;36mDataFrame.collect\u001b[1;34m(self, statement_params, block, log_on_exception, case_sensitive)\u001b[0m\n\u001b[0;32m    582\u001b[0m \u001b[38;5;250m\u001b[39m\u001b[38;5;124;03m\"\"\"Executes the query representing this DataFrame and returns the result as a\u001b[39;00m\n\u001b[0;32m    583\u001b[0m \u001b[38;5;124;03mlist of :class:`Row` objects.\u001b[39;00m\n\u001b[0;32m    584\u001b[0m \n\u001b[1;32m   (...)\u001b[0m\n\u001b[0;32m    594\u001b[0m \u001b[38;5;124;03m    :meth:`collect_nowait()`\u001b[39;00m\n\u001b[0;32m    595\u001b[0m \u001b[38;5;124;03m\"\"\"\u001b[39;00m\n\u001b[0;32m    596\u001b[0m \u001b[38;5;28;01mwith\u001b[39;00m open_telemetry_context_manager(\u001b[38;5;28mself\u001b[39m\u001b[38;5;241m.\u001b[39mcollect, \u001b[38;5;28mself\u001b[39m):\n\u001b[1;32m--> 597\u001b[0m     \u001b[38;5;28;01mreturn\u001b[39;00m \u001b[38;5;28;43mself\u001b[39;49m\u001b[38;5;241;43m.\u001b[39;49m\u001b[43m_internal_collect_with_tag_no_telemetry\u001b[49m\u001b[43m(\u001b[49m\n\u001b[0;32m    598\u001b[0m \u001b[43m        \u001b[49m\u001b[43mstatement_params\u001b[49m\u001b[38;5;241;43m=\u001b[39;49m\u001b[43mstatement_params\u001b[49m\u001b[43m,\u001b[49m\n\u001b[0;32m    599\u001b[0m \u001b[43m        \u001b[49m\u001b[43mblock\u001b[49m\u001b[38;5;241;43m=\u001b[39;49m\u001b[43mblock\u001b[49m\u001b[43m,\u001b[49m\n\u001b[0;32m    600\u001b[0m \u001b[43m        \u001b[49m\u001b[43mlog_on_exception\u001b[49m\u001b[38;5;241;43m=\u001b[39;49m\u001b[43mlog_on_exception\u001b[49m\u001b[43m,\u001b[49m\n\u001b[0;32m    601\u001b[0m \u001b[43m        \u001b[49m\u001b[43mcase_sensitive\u001b[49m\u001b[38;5;241;43m=\u001b[39;49m\u001b[43mcase_sensitive\u001b[49m\u001b[43m,\u001b[49m\n\u001b[0;32m    602\u001b[0m \u001b[43m    \u001b[49m\u001b[43m)\u001b[49m\n",
      "File \u001b[1;32mc:\\Users\\fiscarelli\\Desktop\\Progetti\\Manpower IT\\Auto-Match\\Candidates-to-Jobs-Auto-Match-Cortex-AI\\venv\\lib\\site-packages\\snowflake\\snowpark\\dataframe.py:645\u001b[0m, in \u001b[0;36mDataFrame._internal_collect_with_tag_no_telemetry\u001b[1;34m(self, statement_params, block, data_type, log_on_exception, case_sensitive)\u001b[0m\n\u001b[0;32m    633\u001b[0m \u001b[38;5;28;01mdef\u001b[39;00m\u001b[38;5;250m \u001b[39m\u001b[38;5;21m_internal_collect_with_tag_no_telemetry\u001b[39m(\n\u001b[0;32m    634\u001b[0m     \u001b[38;5;28mself\u001b[39m,\n\u001b[0;32m    635\u001b[0m     \u001b[38;5;241m*\u001b[39m,\n\u001b[1;32m   (...)\u001b[0m\n\u001b[0;32m    643\u001b[0m     \u001b[38;5;66;03m# we should always call this method instead of collect(), to make sure the\u001b[39;00m\n\u001b[0;32m    644\u001b[0m     \u001b[38;5;66;03m# query tag is set properly.\u001b[39;00m\n\u001b[1;32m--> 645\u001b[0m     \u001b[38;5;28;01mreturn\u001b[39;00m \u001b[38;5;28;43mself\u001b[39;49m\u001b[38;5;241;43m.\u001b[39;49m\u001b[43m_session\u001b[49m\u001b[38;5;241;43m.\u001b[39;49m\u001b[43m_conn\u001b[49m\u001b[38;5;241;43m.\u001b[39;49m\u001b[43mexecute\u001b[49m\u001b[43m(\u001b[49m\n\u001b[0;32m    646\u001b[0m \u001b[43m        \u001b[49m\u001b[38;5;28;43mself\u001b[39;49m\u001b[38;5;241;43m.\u001b[39;49m\u001b[43m_plan\u001b[49m\u001b[43m,\u001b[49m\n\u001b[0;32m    647\u001b[0m \u001b[43m        \u001b[49m\u001b[43mblock\u001b[49m\u001b[38;5;241;43m=\u001b[39;49m\u001b[43mblock\u001b[49m\u001b[43m,\u001b[49m\n\u001b[0;32m    648\u001b[0m \u001b[43m        \u001b[49m\u001b[43mdata_type\u001b[49m\u001b[38;5;241;43m=\u001b[39;49m\u001b[43mdata_type\u001b[49m\u001b[43m,\u001b[49m\n\u001b[0;32m    649\u001b[0m \u001b[43m        \u001b[49m\u001b[43m_statement_params\u001b[49m\u001b[38;5;241;43m=\u001b[39;49m\u001b[43mcreate_or_update_statement_params_with_query_tag\u001b[49m\u001b[43m(\u001b[49m\n\u001b[0;32m    650\u001b[0m \u001b[43m            \u001b[49m\u001b[43mstatement_params\u001b[49m\u001b[43m \u001b[49m\u001b[38;5;129;43;01mor\u001b[39;49;00m\u001b[43m \u001b[49m\u001b[38;5;28;43mself\u001b[39;49m\u001b[38;5;241;43m.\u001b[39;49m\u001b[43m_statement_params\u001b[49m\u001b[43m,\u001b[49m\n\u001b[0;32m    651\u001b[0m \u001b[43m            \u001b[49m\u001b[38;5;28;43mself\u001b[39;49m\u001b[38;5;241;43m.\u001b[39;49m\u001b[43m_session\u001b[49m\u001b[38;5;241;43m.\u001b[39;49m\u001b[43mquery_tag\u001b[49m\u001b[43m,\u001b[49m\n\u001b[0;32m    652\u001b[0m \u001b[43m            \u001b[49m\u001b[43mSKIP_LEVELS_THREE\u001b[49m\u001b[43m,\u001b[49m\n\u001b[0;32m    653\u001b[0m \u001b[43m        \u001b[49m\u001b[43m)\u001b[49m\u001b[43m,\u001b[49m\n\u001b[0;32m    654\u001b[0m \u001b[43m        \u001b[49m\u001b[43mlog_on_exception\u001b[49m\u001b[38;5;241;43m=\u001b[39;49m\u001b[43mlog_on_exception\u001b[49m\u001b[43m,\u001b[49m\n\u001b[0;32m    655\u001b[0m \u001b[43m        \u001b[49m\u001b[43mcase_sensitive\u001b[49m\u001b[38;5;241;43m=\u001b[39;49m\u001b[43mcase_sensitive\u001b[49m\u001b[43m,\u001b[49m\n\u001b[0;32m    656\u001b[0m \u001b[43m    \u001b[49m\u001b[43m)\u001b[49m\n",
      "File \u001b[1;32mc:\\Users\\fiscarelli\\Desktop\\Progetti\\Manpower IT\\Auto-Match\\Candidates-to-Jobs-Auto-Match-Cortex-AI\\venv\\lib\\site-packages\\snowflake\\snowpark\\_internal\\server_connection.py:510\u001b[0m, in \u001b[0;36mServerConnection.execute\u001b[1;34m(self, plan, to_pandas, to_iter, block, data_type, log_on_exception, case_sensitive, **kwargs)\u001b[0m\n\u001b[0;32m    500\u001b[0m \u001b[38;5;28;01mif\u001b[39;00m (\n\u001b[0;32m    501\u001b[0m     is_in_stored_procedure()\n\u001b[0;32m    502\u001b[0m     \u001b[38;5;129;01mand\u001b[39;00m \u001b[38;5;129;01mnot\u001b[39;00m block\n\u001b[1;32m   (...)\u001b[0m\n\u001b[0;32m    505\u001b[0m     )\n\u001b[0;32m    506\u001b[0m ):  \u001b[38;5;66;03m# pragma: no cover\u001b[39;00m\n\u001b[0;32m    507\u001b[0m     \u001b[38;5;28;01mraise\u001b[39;00m \u001b[38;5;167;01mNotImplementedError\u001b[39;00m(\n\u001b[0;32m    508\u001b[0m         \u001b[38;5;124m\"\u001b[39m\u001b[38;5;124mAsync query is not supported in stored procedure yet\u001b[39m\u001b[38;5;124m\"\u001b[39m\n\u001b[0;32m    509\u001b[0m     )\n\u001b[1;32m--> 510\u001b[0m result_set, result_meta \u001b[38;5;241m=\u001b[39m \u001b[38;5;28mself\u001b[39m\u001b[38;5;241m.\u001b[39mget_result_set(\n\u001b[0;32m    511\u001b[0m     plan,\n\u001b[0;32m    512\u001b[0m     to_pandas,\n\u001b[0;32m    513\u001b[0m     to_iter,\n\u001b[0;32m    514\u001b[0m     \u001b[38;5;241m*\u001b[39m\u001b[38;5;241m*\u001b[39mkwargs,\n\u001b[0;32m    515\u001b[0m     block\u001b[38;5;241m=\u001b[39mblock,\n\u001b[0;32m    516\u001b[0m     data_type\u001b[38;5;241m=\u001b[39mdata_type,\n\u001b[0;32m    517\u001b[0m     log_on_exception\u001b[38;5;241m=\u001b[39mlog_on_exception,\n\u001b[0;32m    518\u001b[0m     case_sensitive\u001b[38;5;241m=\u001b[39mcase_sensitive,\n\u001b[0;32m    519\u001b[0m )\n\u001b[0;32m    520\u001b[0m \u001b[38;5;28;01mif\u001b[39;00m \u001b[38;5;129;01mnot\u001b[39;00m block:\n\u001b[0;32m    521\u001b[0m     \u001b[38;5;28;01mreturn\u001b[39;00m result_set\n",
      "File \u001b[1;32mc:\\Users\\fiscarelli\\Desktop\\Progetti\\Manpower IT\\Auto-Match\\Candidates-to-Jobs-Auto-Match-Cortex-AI\\venv\\lib\\site-packages\\snowflake\\snowpark\\_internal\\analyzer\\snowflake_plan.py:191\u001b[0m, in \u001b[0;36mSnowflakePlan.Decorator.wrap_exception.<locals>.wrap\u001b[1;34m(*args, **kwargs)\u001b[0m\n\u001b[0;32m    187\u001b[0m \u001b[38;5;28;01melse\u001b[39;00m:\n\u001b[0;32m    188\u001b[0m     ne \u001b[38;5;241m=\u001b[39m SnowparkClientExceptionMessages\u001b[38;5;241m.\u001b[39mSQL_EXCEPTION_FROM_PROGRAMMING_ERROR(\n\u001b[0;32m    189\u001b[0m         e\n\u001b[0;32m    190\u001b[0m     )\n\u001b[1;32m--> 191\u001b[0m     \u001b[38;5;28;01mraise\u001b[39;00m ne\u001b[38;5;241m.\u001b[39mwith_traceback(tb) \u001b[38;5;28;01mfrom\u001b[39;00m\u001b[38;5;250m \u001b[39m\u001b[38;5;28;01mNone\u001b[39;00m\n",
      "File \u001b[1;32mc:\\Users\\fiscarelli\\Desktop\\Progetti\\Manpower IT\\Auto-Match\\Candidates-to-Jobs-Auto-Match-Cortex-AI\\venv\\lib\\site-packages\\snowflake\\snowpark\\_internal\\analyzer\\snowflake_plan.py:122\u001b[0m, in \u001b[0;36mSnowflakePlan.Decorator.wrap_exception.<locals>.wrap\u001b[1;34m(*args, **kwargs)\u001b[0m\n\u001b[0;32m    120\u001b[0m \u001b[38;5;28;01mdef\u001b[39;00m\u001b[38;5;250m \u001b[39m\u001b[38;5;21mwrap\u001b[39m(\u001b[38;5;241m*\u001b[39margs, \u001b[38;5;241m*\u001b[39m\u001b[38;5;241m*\u001b[39mkwargs):\n\u001b[0;32m    121\u001b[0m     \u001b[38;5;28;01mtry\u001b[39;00m:\n\u001b[1;32m--> 122\u001b[0m         \u001b[38;5;28;01mreturn\u001b[39;00m func(\u001b[38;5;241m*\u001b[39margs, \u001b[38;5;241m*\u001b[39m\u001b[38;5;241m*\u001b[39mkwargs)\n\u001b[0;32m    123\u001b[0m     \u001b[38;5;28;01mexcept\u001b[39;00m snowflake\u001b[38;5;241m.\u001b[39mconnector\u001b[38;5;241m.\u001b[39merrors\u001b[38;5;241m.\u001b[39mProgrammingError \u001b[38;5;28;01mas\u001b[39;00m e:\n\u001b[0;32m    124\u001b[0m         query \u001b[38;5;241m=\u001b[39m \u001b[38;5;28mgetattr\u001b[39m(e, \u001b[38;5;124m\"\u001b[39m\u001b[38;5;124mquery\u001b[39m\u001b[38;5;124m\"\u001b[39m, \u001b[38;5;28;01mNone\u001b[39;00m)\n",
      "File \u001b[1;32mc:\\Users\\fiscarelli\\Desktop\\Progetti\\Manpower IT\\Auto-Match\\Candidates-to-Jobs-Auto-Match-Cortex-AI\\venv\\lib\\site-packages\\snowflake\\snowpark\\_internal\\server_connection.py:612\u001b[0m, in \u001b[0;36mServerConnection.get_result_set\u001b[1;34m(self, plan, to_pandas, to_iter, block, data_type, log_on_exception, case_sensitive, **kwargs)\u001b[0m\n\u001b[0;32m    610\u001b[0m \u001b[38;5;28;01mfor\u001b[39;00m holder, id_ \u001b[38;5;129;01min\u001b[39;00m placeholders\u001b[38;5;241m.\u001b[39mitems():\n\u001b[0;32m    611\u001b[0m     final_query \u001b[38;5;241m=\u001b[39m final_query\u001b[38;5;241m.\u001b[39mreplace(holder, id_)\n\u001b[1;32m--> 612\u001b[0m result \u001b[38;5;241m=\u001b[39m \u001b[38;5;28mself\u001b[39m\u001b[38;5;241m.\u001b[39mrun_query(\n\u001b[0;32m    613\u001b[0m     final_query,\n\u001b[0;32m    614\u001b[0m     to_pandas,\n\u001b[0;32m    615\u001b[0m     to_iter \u001b[38;5;129;01mand\u001b[39;00m (i \u001b[38;5;241m==\u001b[39m \u001b[38;5;28mlen\u001b[39m(plan\u001b[38;5;241m.\u001b[39mqueries) \u001b[38;5;241m-\u001b[39m \u001b[38;5;241m1\u001b[39m),\n\u001b[0;32m    616\u001b[0m     is_ddl_on_temp_object\u001b[38;5;241m=\u001b[39mquery\u001b[38;5;241m.\u001b[39mis_ddl_on_temp_object,\n\u001b[0;32m    617\u001b[0m     block\u001b[38;5;241m=\u001b[39m\u001b[38;5;129;01mnot\u001b[39;00m is_last,\n\u001b[0;32m    618\u001b[0m     data_type\u001b[38;5;241m=\u001b[39mdata_type,\n\u001b[0;32m    619\u001b[0m     async_job_plan\u001b[38;5;241m=\u001b[39mplan,\n\u001b[0;32m    620\u001b[0m     log_on_exception\u001b[38;5;241m=\u001b[39mlog_on_exception,\n\u001b[0;32m    621\u001b[0m     case_sensitive\u001b[38;5;241m=\u001b[39mcase_sensitive,\n\u001b[0;32m    622\u001b[0m     params\u001b[38;5;241m=\u001b[39mquery\u001b[38;5;241m.\u001b[39mparams,\n\u001b[0;32m    623\u001b[0m     \u001b[38;5;241m*\u001b[39m\u001b[38;5;241m*\u001b[39mkwargs,\n\u001b[0;32m    624\u001b[0m )\n\u001b[0;32m    625\u001b[0m placeholders[query\u001b[38;5;241m.\u001b[39mquery_id_place_holder] \u001b[38;5;241m=\u001b[39m (\n\u001b[0;32m    626\u001b[0m     result[\u001b[38;5;124m\"\u001b[39m\u001b[38;5;124msfqid\u001b[39m\u001b[38;5;124m\"\u001b[39m] \u001b[38;5;28;01mif\u001b[39;00m \u001b[38;5;129;01mnot\u001b[39;00m is_last \u001b[38;5;28;01melse\u001b[39;00m result\u001b[38;5;241m.\u001b[39mquery_id\n\u001b[0;32m    627\u001b[0m )\n\u001b[0;32m    628\u001b[0m result_meta \u001b[38;5;241m=\u001b[39m get_new_description(\u001b[38;5;28mself\u001b[39m\u001b[38;5;241m.\u001b[39m_cursor)\n",
      "File \u001b[1;32mc:\\Users\\fiscarelli\\Desktop\\Progetti\\Manpower IT\\Auto-Match\\Candidates-to-Jobs-Auto-Match-Cortex-AI\\venv\\lib\\site-packages\\snowflake\\snowpark\\_internal\\server_connection.py:123\u001b[0m, in \u001b[0;36mServerConnection._Decorator.wrap_exception.<locals>.wrap\u001b[1;34m(*args, **kwargs)\u001b[0m\n\u001b[0;32m    119\u001b[0m     \u001b[38;5;28;01mraise\u001b[39;00m SnowparkClientExceptionMessages\u001b[38;5;241m.\u001b[39mSERVER_SESSION_EXPIRED(\n\u001b[0;32m    120\u001b[0m         ex\u001b[38;5;241m.\u001b[39mcause\n\u001b[0;32m    121\u001b[0m     )\n\u001b[0;32m    122\u001b[0m \u001b[38;5;28;01mexcept\u001b[39;00m \u001b[38;5;167;01mException\u001b[39;00m \u001b[38;5;28;01mas\u001b[39;00m ex:\n\u001b[1;32m--> 123\u001b[0m     \u001b[38;5;28;01mraise\u001b[39;00m ex\n",
      "File \u001b[1;32mc:\\Users\\fiscarelli\\Desktop\\Progetti\\Manpower IT\\Auto-Match\\Candidates-to-Jobs-Auto-Match-Cortex-AI\\venv\\lib\\site-packages\\snowflake\\snowpark\\_internal\\server_connection.py:117\u001b[0m, in \u001b[0;36mServerConnection._Decorator.wrap_exception.<locals>.wrap\u001b[1;34m(*args, **kwargs)\u001b[0m\n\u001b[0;32m    115\u001b[0m     \u001b[38;5;28;01mraise\u001b[39;00m SnowparkClientExceptionMessages\u001b[38;5;241m.\u001b[39mSERVER_SESSION_HAS_BEEN_CLOSED()\n\u001b[0;32m    116\u001b[0m \u001b[38;5;28;01mtry\u001b[39;00m:\n\u001b[1;32m--> 117\u001b[0m     \u001b[38;5;28;01mreturn\u001b[39;00m func(\u001b[38;5;241m*\u001b[39margs, \u001b[38;5;241m*\u001b[39m\u001b[38;5;241m*\u001b[39mkwargs)\n\u001b[0;32m    118\u001b[0m \u001b[38;5;28;01mexcept\u001b[39;00m ReauthenticationRequest \u001b[38;5;28;01mas\u001b[39;00m ex:\n\u001b[0;32m    119\u001b[0m     \u001b[38;5;28;01mraise\u001b[39;00m SnowparkClientExceptionMessages\u001b[38;5;241m.\u001b[39mSERVER_SESSION_EXPIRED(\n\u001b[0;32m    120\u001b[0m         ex\u001b[38;5;241m.\u001b[39mcause\n\u001b[0;32m    121\u001b[0m     )\n",
      "File \u001b[1;32mc:\\Users\\fiscarelli\\Desktop\\Progetti\\Manpower IT\\Auto-Match\\Candidates-to-Jobs-Auto-Match-Cortex-AI\\venv\\lib\\site-packages\\snowflake\\snowpark\\_internal\\server_connection.py:417\u001b[0m, in \u001b[0;36mServerConnection.run_query\u001b[1;34m(self, query, to_pandas, to_iter, is_ddl_on_temp_object, block, data_type, async_job_plan, log_on_exception, case_sensitive, params, num_statements, **kwargs)\u001b[0m\n\u001b[0;32m    415\u001b[0m         query_id_log \u001b[38;5;241m=\u001b[39m \u001b[38;5;124mf\u001b[39m\u001b[38;5;124m\"\u001b[39m\u001b[38;5;124m [queryID: \u001b[39m\u001b[38;5;132;01m{\u001b[39;00mex\u001b[38;5;241m.\u001b[39msfqid\u001b[38;5;132;01m}\u001b[39;00m\u001b[38;5;124m]\u001b[39m\u001b[38;5;124m\"\u001b[39m \u001b[38;5;28;01mif\u001b[39;00m \u001b[38;5;28mhasattr\u001b[39m(ex, \u001b[38;5;124m\"\u001b[39m\u001b[38;5;124msfqid\u001b[39m\u001b[38;5;124m\"\u001b[39m) \u001b[38;5;28;01melse\u001b[39;00m \u001b[38;5;124m\"\u001b[39m\u001b[38;5;124m\"\u001b[39m\n\u001b[0;32m    416\u001b[0m         logger\u001b[38;5;241m.\u001b[39merror(\u001b[38;5;124mf\u001b[39m\u001b[38;5;124m\"\u001b[39m\u001b[38;5;124mFailed to execute query\u001b[39m\u001b[38;5;132;01m{\u001b[39;00mquery_id_log\u001b[38;5;132;01m}\u001b[39;00m\u001b[38;5;124m \u001b[39m\u001b[38;5;132;01m{\u001b[39;00mquery\u001b[38;5;132;01m}\u001b[39;00m\u001b[38;5;130;01m\\n\u001b[39;00m\u001b[38;5;132;01m{\u001b[39;00mex\u001b[38;5;132;01m}\u001b[39;00m\u001b[38;5;124m\"\u001b[39m)\n\u001b[1;32m--> 417\u001b[0m     \u001b[38;5;28;01mraise\u001b[39;00m ex\n\u001b[0;32m    419\u001b[0m \u001b[38;5;66;03m# fetch_pandas_all/batches() only works for SELECT statements\u001b[39;00m\n\u001b[0;32m    420\u001b[0m \u001b[38;5;66;03m# We call fetchall() if fetch_pandas_all/batches() fails,\u001b[39;00m\n\u001b[0;32m    421\u001b[0m \u001b[38;5;66;03m# because when the query plan has multiple queries, it will\u001b[39;00m\n\u001b[0;32m    422\u001b[0m \u001b[38;5;66;03m# have non-select statements, and it shouldn't fail if the user\u001b[39;00m\n\u001b[0;32m    423\u001b[0m \u001b[38;5;66;03m# calls to_pandas() to execute the query.\u001b[39;00m\n\u001b[0;32m    424\u001b[0m \u001b[38;5;28;01mif\u001b[39;00m block:\n",
      "File \u001b[1;32mc:\\Users\\fiscarelli\\Desktop\\Progetti\\Manpower IT\\Auto-Match\\Candidates-to-Jobs-Auto-Match-Cortex-AI\\venv\\lib\\site-packages\\snowflake\\snowpark\\_internal\\server_connection.py:402\u001b[0m, in \u001b[0;36mServerConnection.run_query\u001b[1;34m(self, query, to_pandas, to_iter, is_ddl_on_temp_object, block, data_type, async_job_plan, log_on_exception, case_sensitive, params, num_statements, **kwargs)\u001b[0m\n\u001b[0;32m    400\u001b[0m     kwargs[\u001b[38;5;124m\"\u001b[39m\u001b[38;5;124m_statement_params\u001b[39m\u001b[38;5;124m\"\u001b[39m][\u001b[38;5;124m\"\u001b[39m\u001b[38;5;124mSNOWPARK_SKIP_TXN_COMMIT_IN_DDL\u001b[39m\u001b[38;5;124m\"\u001b[39m] \u001b[38;5;241m=\u001b[39m \u001b[38;5;28;01mTrue\u001b[39;00m\n\u001b[0;32m    401\u001b[0m \u001b[38;5;28;01mif\u001b[39;00m block:\n\u001b[1;32m--> 402\u001b[0m     results_cursor \u001b[38;5;241m=\u001b[39m \u001b[38;5;28mself\u001b[39m\u001b[38;5;241m.\u001b[39mexecute_and_notify_query_listener(\n\u001b[0;32m    403\u001b[0m         query, params\u001b[38;5;241m=\u001b[39mparams, \u001b[38;5;241m*\u001b[39m\u001b[38;5;241m*\u001b[39mkwargs\n\u001b[0;32m    404\u001b[0m     )\n\u001b[0;32m    405\u001b[0m     logger\u001b[38;5;241m.\u001b[39mdebug(\u001b[38;5;124mf\u001b[39m\u001b[38;5;124m\"\u001b[39m\u001b[38;5;124mExecute query [queryID: \u001b[39m\u001b[38;5;132;01m{\u001b[39;00mresults_cursor\u001b[38;5;241m.\u001b[39msfqid\u001b[38;5;132;01m}\u001b[39;00m\u001b[38;5;124m] \u001b[39m\u001b[38;5;132;01m{\u001b[39;00mquery\u001b[38;5;132;01m}\u001b[39;00m\u001b[38;5;124m\"\u001b[39m)\n\u001b[0;32m    406\u001b[0m \u001b[38;5;28;01melse\u001b[39;00m:\n",
      "File \u001b[1;32mc:\\Users\\fiscarelli\\Desktop\\Progetti\\Manpower IT\\Auto-Match\\Candidates-to-Jobs-Auto-Match-Cortex-AI\\venv\\lib\\site-packages\\snowflake\\snowpark\\_internal\\server_connection.py:354\u001b[0m, in \u001b[0;36mServerConnection.execute_and_notify_query_listener\u001b[1;34m(self, query, **kwargs)\u001b[0m\n\u001b[0;32m    351\u001b[0m \u001b[38;5;28;01mdef\u001b[39;00m\u001b[38;5;250m \u001b[39m\u001b[38;5;21mexecute_and_notify_query_listener\u001b[39m(\n\u001b[0;32m    352\u001b[0m     \u001b[38;5;28mself\u001b[39m, query: \u001b[38;5;28mstr\u001b[39m, \u001b[38;5;241m*\u001b[39m\u001b[38;5;241m*\u001b[39mkwargs: Any\n\u001b[0;32m    353\u001b[0m ) \u001b[38;5;241m-\u001b[39m\u001b[38;5;241m>\u001b[39m SnowflakeCursor:\n\u001b[1;32m--> 354\u001b[0m     results_cursor \u001b[38;5;241m=\u001b[39m \u001b[38;5;28mself\u001b[39m\u001b[38;5;241m.\u001b[39m_cursor\u001b[38;5;241m.\u001b[39mexecute(query, \u001b[38;5;241m*\u001b[39m\u001b[38;5;241m*\u001b[39mkwargs)\n\u001b[0;32m    355\u001b[0m     \u001b[38;5;28mself\u001b[39m\u001b[38;5;241m.\u001b[39mnotify_query_listeners(\n\u001b[0;32m    356\u001b[0m         QueryRecord(results_cursor\u001b[38;5;241m.\u001b[39msfqid, results_cursor\u001b[38;5;241m.\u001b[39mquery)\n\u001b[0;32m    357\u001b[0m     )\n\u001b[0;32m    358\u001b[0m     \u001b[38;5;28;01mreturn\u001b[39;00m results_cursor\n",
      "File \u001b[1;32mc:\\Users\\fiscarelli\\Desktop\\Progetti\\Manpower IT\\Auto-Match\\Candidates-to-Jobs-Auto-Match-Cortex-AI\\venv\\lib\\site-packages\\snowflake\\connector\\cursor.py:1136\u001b[0m, in \u001b[0;36mSnowflakeCursor.execute\u001b[1;34m(self, command, params, _bind_stage, timeout, _exec_async, _no_retry, _do_reset, _put_callback, _put_azure_callback, _put_callback_output_stream, _get_callback, _get_azure_callback, _get_callback_output_stream, _show_progress_bar, _statement_params, _is_internal, _describe_only, _no_results, _is_put_get, _raise_put_get_error, _force_put_overwrite, _skip_upload_on_content_match, file_stream, num_statements)\u001b[0m\n\u001b[0;32m   1132\u001b[0m     is_integrity_error \u001b[38;5;241m=\u001b[39m (\n\u001b[0;32m   1133\u001b[0m         code \u001b[38;5;241m==\u001b[39m \u001b[38;5;124m\"\u001b[39m\u001b[38;5;124m100072\u001b[39m\u001b[38;5;124m\"\u001b[39m\n\u001b[0;32m   1134\u001b[0m     )  \u001b[38;5;66;03m# NULL result in a non-nullable column\u001b[39;00m\n\u001b[0;32m   1135\u001b[0m     error_class \u001b[38;5;241m=\u001b[39m IntegrityError \u001b[38;5;28;01mif\u001b[39;00m is_integrity_error \u001b[38;5;28;01melse\u001b[39;00m ProgrammingError\n\u001b[1;32m-> 1136\u001b[0m     \u001b[43mError\u001b[49m\u001b[38;5;241;43m.\u001b[39;49m\u001b[43merrorhandler_wrapper\u001b[49m\u001b[43m(\u001b[49m\u001b[38;5;28;43mself\u001b[39;49m\u001b[38;5;241;43m.\u001b[39;49m\u001b[43mconnection\u001b[49m\u001b[43m,\u001b[49m\u001b[43m \u001b[49m\u001b[38;5;28;43mself\u001b[39;49m\u001b[43m,\u001b[49m\u001b[43m \u001b[49m\u001b[43merror_class\u001b[49m\u001b[43m,\u001b[49m\u001b[43m \u001b[49m\u001b[43merrvalue\u001b[49m\u001b[43m)\u001b[49m\n\u001b[0;32m   1137\u001b[0m \u001b[38;5;28;01mreturn\u001b[39;00m \u001b[38;5;28mself\u001b[39m\n",
      "File \u001b[1;32mc:\\Users\\fiscarelli\\Desktop\\Progetti\\Manpower IT\\Auto-Match\\Candidates-to-Jobs-Auto-Match-Cortex-AI\\venv\\lib\\site-packages\\snowflake\\connector\\errors.py:290\u001b[0m, in \u001b[0;36mError.errorhandler_wrapper\u001b[1;34m(connection, cursor, error_class, error_value)\u001b[0m\n\u001b[0;32m    267\u001b[0m \u001b[38;5;129m@staticmethod\u001b[39m\n\u001b[0;32m    268\u001b[0m \u001b[38;5;28;01mdef\u001b[39;00m\u001b[38;5;250m \u001b[39m\u001b[38;5;21merrorhandler_wrapper\u001b[39m(\n\u001b[0;32m    269\u001b[0m     connection: SnowflakeConnection \u001b[38;5;241m|\u001b[39m \u001b[38;5;28;01mNone\u001b[39;00m,\n\u001b[1;32m   (...)\u001b[0m\n\u001b[0;32m    272\u001b[0m     error_value: \u001b[38;5;28mdict\u001b[39m[\u001b[38;5;28mstr\u001b[39m, Any],\n\u001b[0;32m    273\u001b[0m ) \u001b[38;5;241m-\u001b[39m\u001b[38;5;241m>\u001b[39m \u001b[38;5;28;01mNone\u001b[39;00m:\n\u001b[0;32m    274\u001b[0m \u001b[38;5;250m    \u001b[39m\u001b[38;5;124;03m\"\"\"Error handler wrapper that calls the errorhandler method.\u001b[39;00m\n\u001b[0;32m    275\u001b[0m \n\u001b[0;32m    276\u001b[0m \u001b[38;5;124;03m    Args:\u001b[39;00m\n\u001b[1;32m   (...)\u001b[0m\n\u001b[0;32m    287\u001b[0m \u001b[38;5;124;03m        exception to the first handler in that order.\u001b[39;00m\n\u001b[0;32m    288\u001b[0m \u001b[38;5;124;03m    \"\"\"\u001b[39;00m\n\u001b[1;32m--> 290\u001b[0m     handed_over \u001b[38;5;241m=\u001b[39m \u001b[43mError\u001b[49m\u001b[38;5;241;43m.\u001b[39;49m\u001b[43mhand_to_other_handler\u001b[49m\u001b[43m(\u001b[49m\n\u001b[0;32m    291\u001b[0m \u001b[43m        \u001b[49m\u001b[43mconnection\u001b[49m\u001b[43m,\u001b[49m\n\u001b[0;32m    292\u001b[0m \u001b[43m        \u001b[49m\u001b[43mcursor\u001b[49m\u001b[43m,\u001b[49m\n\u001b[0;32m    293\u001b[0m \u001b[43m        \u001b[49m\u001b[43merror_class\u001b[49m\u001b[43m,\u001b[49m\n\u001b[0;32m    294\u001b[0m \u001b[43m        \u001b[49m\u001b[43merror_value\u001b[49m\u001b[43m,\u001b[49m\n\u001b[0;32m    295\u001b[0m \u001b[43m    \u001b[49m\u001b[43m)\u001b[49m\n\u001b[0;32m    296\u001b[0m     \u001b[38;5;28;01mif\u001b[39;00m \u001b[38;5;129;01mnot\u001b[39;00m handed_over:\n\u001b[0;32m    297\u001b[0m         \u001b[38;5;28;01mraise\u001b[39;00m Error\u001b[38;5;241m.\u001b[39merrorhandler_make_exception(\n\u001b[0;32m    298\u001b[0m             error_class,\n\u001b[0;32m    299\u001b[0m             error_value,\n\u001b[0;32m    300\u001b[0m         )\n",
      "File \u001b[1;32mc:\\Users\\fiscarelli\\Desktop\\Progetti\\Manpower IT\\Auto-Match\\Candidates-to-Jobs-Auto-Match-Cortex-AI\\venv\\lib\\site-packages\\snowflake\\connector\\errors.py:345\u001b[0m, in \u001b[0;36mError.hand_to_other_handler\u001b[1;34m(connection, cursor, error_class, error_value)\u001b[0m\n\u001b[0;32m    343\u001b[0m \u001b[38;5;28;01mif\u001b[39;00m cursor \u001b[38;5;129;01mis\u001b[39;00m \u001b[38;5;129;01mnot\u001b[39;00m \u001b[38;5;28;01mNone\u001b[39;00m:\n\u001b[0;32m    344\u001b[0m     cursor\u001b[38;5;241m.\u001b[39mmessages\u001b[38;5;241m.\u001b[39mappend((error_class, error_value))\n\u001b[1;32m--> 345\u001b[0m     \u001b[43mcursor\u001b[49m\u001b[38;5;241;43m.\u001b[39;49m\u001b[43merrorhandler\u001b[49m\u001b[43m(\u001b[49m\u001b[43mconnection\u001b[49m\u001b[43m,\u001b[49m\u001b[43m \u001b[49m\u001b[43mcursor\u001b[49m\u001b[43m,\u001b[49m\u001b[43m \u001b[49m\u001b[43merror_class\u001b[49m\u001b[43m,\u001b[49m\u001b[43m \u001b[49m\u001b[43merror_value\u001b[49m\u001b[43m)\u001b[49m\n\u001b[0;32m    346\u001b[0m     \u001b[38;5;28;01mreturn\u001b[39;00m \u001b[38;5;28;01mTrue\u001b[39;00m\n\u001b[0;32m    347\u001b[0m \u001b[38;5;28;01melif\u001b[39;00m connection \u001b[38;5;129;01mis\u001b[39;00m \u001b[38;5;129;01mnot\u001b[39;00m \u001b[38;5;28;01mNone\u001b[39;00m:\n",
      "File \u001b[1;32mc:\\Users\\fiscarelli\\Desktop\\Progetti\\Manpower IT\\Auto-Match\\Candidates-to-Jobs-Auto-Match-Cortex-AI\\venv\\lib\\site-packages\\snowflake\\connector\\errors.py:221\u001b[0m, in \u001b[0;36mError.default_errorhandler\u001b[1;34m(connection, cursor, error_class, error_value)\u001b[0m\n\u001b[0;32m    219\u001b[0m errno \u001b[38;5;241m=\u001b[39m error_value\u001b[38;5;241m.\u001b[39mget(\u001b[38;5;124m\"\u001b[39m\u001b[38;5;124merrno\u001b[39m\u001b[38;5;124m\"\u001b[39m)\n\u001b[0;32m    220\u001b[0m done_format_msg \u001b[38;5;241m=\u001b[39m error_value\u001b[38;5;241m.\u001b[39mget(\u001b[38;5;124m\"\u001b[39m\u001b[38;5;124mdone_format_msg\u001b[39m\u001b[38;5;124m\"\u001b[39m)\n\u001b[1;32m--> 221\u001b[0m \u001b[38;5;28;01mraise\u001b[39;00m error_class(\n\u001b[0;32m    222\u001b[0m     msg\u001b[38;5;241m=\u001b[39merror_value\u001b[38;5;241m.\u001b[39mget(\u001b[38;5;124m\"\u001b[39m\u001b[38;5;124mmsg\u001b[39m\u001b[38;5;124m\"\u001b[39m),\n\u001b[0;32m    223\u001b[0m     errno\u001b[38;5;241m=\u001b[39m\u001b[38;5;28;01mNone\u001b[39;00m \u001b[38;5;28;01mif\u001b[39;00m errno \u001b[38;5;129;01mis\u001b[39;00m \u001b[38;5;28;01mNone\u001b[39;00m \u001b[38;5;28;01melse\u001b[39;00m \u001b[38;5;28mint\u001b[39m(errno),\n\u001b[0;32m    224\u001b[0m     sqlstate\u001b[38;5;241m=\u001b[39merror_value\u001b[38;5;241m.\u001b[39mget(\u001b[38;5;124m\"\u001b[39m\u001b[38;5;124msqlstate\u001b[39m\u001b[38;5;124m\"\u001b[39m),\n\u001b[0;32m    225\u001b[0m     sfqid\u001b[38;5;241m=\u001b[39merror_value\u001b[38;5;241m.\u001b[39mget(\u001b[38;5;124m\"\u001b[39m\u001b[38;5;124msfqid\u001b[39m\u001b[38;5;124m\"\u001b[39m),\n\u001b[0;32m    226\u001b[0m     query\u001b[38;5;241m=\u001b[39merror_value\u001b[38;5;241m.\u001b[39mget(\u001b[38;5;124m\"\u001b[39m\u001b[38;5;124mquery\u001b[39m\u001b[38;5;124m\"\u001b[39m),\n\u001b[0;32m    227\u001b[0m     done_format_msg\u001b[38;5;241m=\u001b[39m(\n\u001b[0;32m    228\u001b[0m         \u001b[38;5;28;01mNone\u001b[39;00m \u001b[38;5;28;01mif\u001b[39;00m done_format_msg \u001b[38;5;129;01mis\u001b[39;00m \u001b[38;5;28;01mNone\u001b[39;00m \u001b[38;5;28;01melse\u001b[39;00m \u001b[38;5;28mbool\u001b[39m(done_format_msg)\n\u001b[0;32m    229\u001b[0m     ),\n\u001b[0;32m    230\u001b[0m     connection\u001b[38;5;241m=\u001b[39mconnection,\n\u001b[0;32m    231\u001b[0m     cursor\u001b[38;5;241m=\u001b[39mcursor,\n\u001b[0;32m    232\u001b[0m )\n",
      "\u001b[1;31mSnowparkSQLException\u001b[0m: (1304): 01bfdb32-0207-6a1b-0000-7309447ea38e: 001003 (42000): SQL compilation error:\nsyntax error line 3 at position 38 unexpected '<EOF>'."
     ]
    }
   ],
   "source": [
    "session.sql(\"\"\"select * \n",
    "            from IT_DISCOVERY.CONSUMER_INT_MODEL.MPG_IT_AUTOMATCH_CANDIDATE_FEATURES\n",
    "            where distance_km < 20 and\n",
    "            \"\"\").collect()"
   ]
  },
  {
   "cell_type": "code",
   "execution_count": null,
   "id": "2c0b78a4",
   "metadata": {},
   "outputs": [
    {
     "data": {
      "text/plain": [
       "[Row(name='DATE_ADDED', type='TIMESTAMP_NTZ(9)', kind='COLUMN', null?='Y', default=None, primary key='N', unique key='N', check=None, expression=None, comment=None, policy name=None, privacy domain=None),\n",
       " Row(name='CANDIDATEID', type='NUMBER(38,0)', kind='COLUMN', null?='Y', default=None, primary key='N', unique key='N', check=None, expression=None, comment=None, policy name=None, privacy domain=None),\n",
       " Row(name='LOCATION', type='VARCHAR(16777216)', kind='COLUMN', null?='Y', default=None, primary key='N', unique key='N', check=None, expression=None, comment=None, policy name=None, privacy domain=None),\n",
       " Row(name='LAST_JOB', type='VARCHAR(16777216)', kind='COLUMN', null?='Y', default=None, primary key='N', unique key='N', check=None, expression=None, comment=None, policy name=None, privacy domain=None),\n",
       " Row(name='SECOND_LAST_JOB', type='VARCHAR(16777216)', kind='COLUMN', null?='Y', default=None, primary key='N', unique key='N', check=None, expression=None, comment=None, policy name=None, privacy domain=None),\n",
       " Row(name='THIRD_LAST_JOB', type='VARCHAR(16777216)', kind='COLUMN', null?='Y', default=None, primary key='N', unique key='N', check=None, expression=None, comment=None, policy name=None, privacy domain=None),\n",
       " Row(name='SKILLS', type='VARCHAR(16777216)', kind='COLUMN', null?='Y', default=None, primary key='N', unique key='N', check=None, expression=None, comment=None, policy name=None, privacy domain=None),\n",
       " Row(name='AGE', type='NUMBER(38,0)', kind='COLUMN', null?='Y', default=None, primary key='N', unique key='N', check=None, expression=None, comment=None, policy name=None, privacy domain=None),\n",
       " Row(name='DATE_OF_BIRTH', type='DATE', kind='COLUMN', null?='Y', default=None, primary key='N', unique key='N', check=None, expression=None, comment=None, policy name=None, privacy domain=None),\n",
       " Row(name='ZIP_CODE', type='VARCHAR(16777216)', kind='COLUMN', null?='Y', default=None, primary key='N', unique key='N', check=None, expression=None, comment=None, policy name=None, privacy domain=None),\n",
       " Row(name='LATITUDE', type='FLOAT', kind='COLUMN', null?='Y', default=None, primary key='N', unique key='N', check=None, expression=None, comment=None, policy name=None, privacy domain=None),\n",
       " Row(name='LONGITUDE', type='FLOAT', kind='COLUMN', null?='Y', default=None, primary key='N', unique key='N', check=None, expression=None, comment=None, policy name=None, privacy domain=None),\n",
       " Row(name='DISTANCE_KM', type='NUMBER(38,0)', kind='COLUMN', null?='N', default=None, primary key='N', unique key='N', check=None, expression=None, comment=None, policy name=None, privacy domain=None)]"
      ]
     },
     "execution_count": 9,
     "metadata": {},
     "output_type": "execute_result"
    }
   ],
   "source": [
    "session.sql(\"DESC TABLE IT_DISCOVERY.CONSUMER_INT_MODEL.MPG_IT_AUTOMATCH_CANDIDATE_FEATURES;\").collect()"
   ]
  },
  {
   "cell_type": "code",
   "execution_count": null,
   "id": "250ec554",
   "metadata": {},
   "outputs": [
    {
     "data": {
      "text/plain": [
       "[Row(RESULTS='[\\n  {\\n    \"@scores\": {\\n      \"cosine_similarity\": 0.59865344,\\n      \"text_match\": 0.023422932\\n    },\\n    \"last_job\": \"data analyst\",\\n    \"second_last_job\": \"executive engineer\",\\n    \"skills\": \"python, javascript, java, c/c++, sql, c#, html, css, pandas, numpy, power bi, tableau, matplotlib, sql server, mongodb, sqlite, pytorch, hugging face transformers, spacy, bert, scikit-learn, q-learning, genetic algorithms, svm, gmm, logistic regression, weights & biases, runpod, databricks, firebase, react, node.js, express, django, langchain, hadoop, spark, git, jupyter, vs code, docker, agile/scrum\"\\n  },\\n  {\\n    \"@scores\": {\\n      \"cosine_similarity\": 0.55122876,\\n      \"text_match\": 0.070841834\\n    },\\n    \"last_job\": \"smart passenger information system\",\\n    \"second_last_job\": \"data scientist\",\\n    \"skills\": \"python, java, sql, scikit-learn, tensorflow, keras, pytorch, oracle sql, mysql, mongodb, pyspark, microsoft power bi, tableau, matplotlib, seaborn, git, microsoft excel, ibm spss modeler, minitab\"\\n  },\\n  {\\n    \"@scores\": {\\n      \"cosine_similarity\": 0.57121766,\\n      \"text_match\": 0.076442234\\n    },\\n    \"last_job\": \"full stack developer & data scientist\",\\n    \"second_last_job\": \"data scientist\",\\n    \"skills\": \"python, flask, fastapi, postgresql, mongodb, api rest, javascript, react, html5, css3, jquery, figma, adobe xd, aws, azure databricks, git, docker, tableau, pandas, scipy, matplotlib, llm, openai, rag, scikit-learn, machine learning\"\\n  },\\n  {\\n    \"@scores\": {\\n      \"cosine_similarity\": 0.55384165,\\n      \"text_match\": 0.16184555\\n    },\\n    \"last_job\": \"data scientist\",\\n    \"second_last_job\": \"analista funzionale\",\\n    \"skills\": \"python, r, sql, postgresql, machine learning, git, linux, java, apache spark, mysql, stata, numpy, pandas, scikit-learn, matplotlib\"\\n  },\\n  {\\n    \"@scores\": {\\n      \"cosine_similarity\": 0.5763129,\\n      \"text_match\": 0.070841834\\n    },\\n    \"last_job\": \"ai & automation intern\",\\n    \"second_last_job\": \"data scientist / ai engineer\",\\n    \"skills\": \"python, c#, c, c++, java, javascript, php, dart, tensorflow, pytorch, hugging face, scikit-learn, llms, langchain, pandas, numpy, pyspark, asp.net core, fastapi, flask, sql, mongodb, mysql, git, jenkins, selenium, aws, flutter\"\\n  }\\n]')]"
      ]
     },
     "execution_count": 10,
     "metadata": {},
     "output_type": "execute_result"
    }
   ],
   "source": [
    "\n",
    "session.sql(\"\"\"\n",
    "SELECT PARSE_JSON(\n",
    "  SNOWFLAKE.CORTEX.SEARCH_PREVIEW(\n",
    "      'CANDIDATE_SEARCH_SERVICE',\n",
    "'{\n",
    "        \"query\": \"Data Scientist with experience in Python and Java \",\n",
    "        \"columns\":[\n",
    "            \"last_job\",\n",
    "            \"second_last_job\",\n",
    "            \"skills\"\n",
    "        ],\n",
    "        \"limit\":5\n",
    "      }'\n",
    "  )\n",
    ")['results'] as results;\n",
    "\"\"\").collect()"
   ]
  }
 ],
 "metadata": {
  "kernelspec": {
   "display_name": "Python 3",
   "language": "python",
   "name": "python3"
  },
  "language_info": {
   "codemirror_mode": {
    "name": "ipython",
    "version": 3
   },
   "file_extension": ".py",
   "mimetype": "text/x-python",
   "name": "python",
   "nbconvert_exporter": "python",
   "pygments_lexer": "ipython3",
   "version": "3.10.11"
  }
 },
 "nbformat": 4,
 "nbformat_minor": 5
}
